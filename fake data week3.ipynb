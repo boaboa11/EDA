{
 "cells": [
  {
   "cell_type": "code",
   "execution_count": 18,
   "id": "62c977c7-a3c4-43d7-b1b7-046178d56bc3",
   "metadata": {},
   "outputs": [],
   "source": [
    "# Import libraries\n",
    "import pandas as pd\n",
    "import numpy as np\n",
    "from faker import Faker\n",
    "import random\n",
    "\n",
    "# Initialize Faker\n",
    "fake = Faker()\n",
    "\n",
    "# Example: generate 150 entries\n",
    "num_entries = 150\n",
    "\n",
    "# Generate fake data\n",
    "def generate_fake_data(num_entries):\n",
    "    data = {\n",
    "        \"Name\": [fake.name() for _ in range(num_entries)],\n",
    "        \"Phone\": [fake.phone_number() for _ in range(num_entries)],\n",
    "        \"Email\": [fake.email() for _ in range(num_entries)],\n",
    "        \"Address\": [fake.address().replace(\"\\n\", \", \") for _ in range(num_entries)],\n",
    "        \"Year Born\": [random.randint(1954, 2000) for _ in range(num_entries)],  # realistic birth years\n",
    "        \"Number of Kids\": [random.randint(0, 5) for _ in range(num_entries)],  # number of kids\n",
    "        \"Rent or Own\": [random.choice([\"Rent\", \"Own\"]) for _ in range(num_entries)],  \n",
    "        \"Annual Income\": [round(np.random.normal(55000, 15000), 1) for _ in range(num_entries)],  # non-uniform income distribution\n",
    "        \"Speeding Tickets\": [min(int(np.random.exponential(0.5)), 3) for _ in range(num_entries)]  # non-uniform distribution of tickets\n",
    "    }\n",
    "    \n",
    "    df = pd.DataFrame(data)\n",
    "    return df\n",
    "\n",
    "def save_to_csv(num_entries, filename='fake_data_week3.csv'):\n",
    "    df = generate_fake_data(num_entries)\n",
    "    df.to_csv(filename, index=False)\n",
    "    return df\n"
   ]
  },
  {
   "cell_type": "code",
   "execution_count": null,
   "id": "196f534d-61be-4402-952c-0659e1519eaf",
   "metadata": {},
   "outputs": [],
   "source": []
  }
 ],
 "metadata": {
  "kernelspec": {
   "display_name": "Python (oldnumpyenv)",
   "language": "python",
   "name": "oldnumpyenv"
  },
  "language_info": {
   "codemirror_mode": {
    "name": "ipython",
    "version": 3
   },
   "file_extension": ".py",
   "mimetype": "text/x-python",
   "name": "python",
   "nbconvert_exporter": "python",
   "pygments_lexer": "ipython3",
   "version": "3.10.14"
  }
 },
 "nbformat": 4,
 "nbformat_minor": 5
}
