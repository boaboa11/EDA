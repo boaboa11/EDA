{
 "cells": [
  {
   "cell_type": "code",
   "execution_count": 7,
   "id": "200eb46a-a5d9-421b-b457-b81e21a30755",
   "metadata": {
    "scrolled": true
   },
   "outputs": [
    {
     "data": {
      "text/plain": [
       "'C:\\\\Users\\\\boa\\\\Desktop\\\\601\\\\patient_info_new.xlsx'"
      ]
     },
     "execution_count": 7,
     "metadata": {},
     "output_type": "execute_result"
    }
   ],
   "source": [
    "import openpyxl\n",
    "\n",
    "# Load the sheets\n",
    "wb = openpyxl.load_workbook(r\"C:\\Users\\boa\\Desktop\\601\\week_05_homework_XLSX_openpyxl_file\\week_05_homework_XLSX_openpyxl.xlsx\")\n",
    "patient_info_sheet = wb[\"patient info\"]\n",
    "records_sheet = wb[\"records\"]\n",
    "\n",
    "# Find and match the \"patient id\" and \"p_id\" columns in the 1st column\n",
    "patient_info_headers = [cell.value for cell in patient_info_sheet[1]]\n",
    "records_headers = [cell.value for cell in records_sheet[1]]\n",
    "patient_id_col_idx = patient_info_headers.index(\"patient id\") + 1\n",
    "p_id_col_idx = records_headers.index(\"p_id\") + 1\n",
    "\n",
    "# Add new columns from \"records sheet\" to \"patient info sheet\"\n",
    "new_columns = [col for col in records_headers if col not in patient_info_headers]\n",
    "for col in new_columns:\n",
    "    patient_info_headers.append(col)\n",
    "    patient_info_sheet.cell(row=1, column=len(patient_info_headers)).value = col\n",
    "\n",
    "# Add rows from \"records sheet\" to \"patient info sheet\"\n",
    "patient_info_data = {}\n",
    "for row in patient_info_sheet.iter_rows(min_row=2, values_only=True):\n",
    "    patient_info_data[row[patient_id_col_idx - 1]] = row\n",
    "\n",
    "new_rows_to_add = []\n",
    "\n",
    "# Iterate over \"records\" and update/add rows in \"patient info\"\n",
    "for records_row in records_sheet.iter_rows(min_row=2, values_only=True):\n",
    "    p_id = records_row[p_id_col_idx - 1]\n",
    "    \n",
    "    if p_id in patient_info_data:\n",
    "        patient_row_num = list(patient_info_data.keys()).index(p_id) + 2\n",
    "        for col_idx, value in enumerate(records_row, start=1):\n",
    "            if col_idx != p_id_col_idx:  # Do not overwrite patient id column\n",
    "                patient_col_idx = patient_info_headers.index(records_headers[col_idx - 1]) + 1\n",
    "                patient_info_sheet.cell(row=patient_row_num, column=patient_col_idx).value = value\n",
    "    else:\n",
    "        # Add new rows for patients not in \"patient info\"\n",
    "        new_rows_to_add.append(records_row)\n",
    "\n",
    "for records_row in new_rows_to_add:\n",
    "    new_row_idx = patient_info_sheet.max_row + 1\n",
    "    for col_idx, value in enumerate(records_row, start=1):\n",
    "        if records_headers[col_idx - 1] in patient_info_headers:\n",
    "            patient_col_idx = patient_info_headers.index(records_headers[col_idx - 1]) + 1\n",
    "            patient_info_sheet.cell(row=new_row_idx, column=patient_col_idx).value = value\n",
    "\n",
    "# Save the updated workbook to a new file and do not overwrite the old one\n",
    "new_file_path = r\"C:\\Users\\boa\\Desktop\\601\\patient_info_new.xlsx\"\n",
    "wb.save(new_file_path)\n",
    "\n",
    "new_file_path\n"
   ]
  },
  {
   "cell_type": "code",
   "execution_count": null,
   "id": "4d955c47-afe4-41fb-8985-6ee93bfae235",
   "metadata": {},
   "outputs": [],
   "source": []
  }
 ],
 "metadata": {
  "kernelspec": {
   "display_name": "Python (oldnumpyenv)",
   "language": "python",
   "name": "oldnumpyenv"
  },
  "language_info": {
   "codemirror_mode": {
    "name": "ipython",
    "version": 3
   },
   "file_extension": ".py",
   "mimetype": "text/x-python",
   "name": "python",
   "nbconvert_exporter": "python",
   "pygments_lexer": "ipython3",
   "version": "3.10.14"
  }
 },
 "nbformat": 4,
 "nbformat_minor": 5
}
