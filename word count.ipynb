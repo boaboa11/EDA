{
 "cells": [
  {
   "cell_type": "code",
   "execution_count": 17,
   "id": "44be61b1-1361-459a-a08f-09ad6aca440f",
   "metadata": {},
   "outputs": [
    {
     "data": {
      "text/plain": [
       "(26, 5)"
      ]
     },
     "execution_count": 17,
     "metadata": {},
     "output_type": "execute_result"
    }
   ],
   "source": [
    "def count_words_chars(input_string):\n",
    "    \n",
    "    word_count = len(input_string.split())\n",
    "    \n",
    "    character_count = len(input_string.replace(\" \", \" \"))\n",
    "    \n",
    "    return character_count, word_count\n",
    "\n",
    "# Examples:\n",
    "example_string = \"My name is Michelle Kohls.\"\n",
    "char_count, word_count = count_words_chars(example_string)\n",
    "# Display the results\n",
    "char_count, word_count"
   ]
  },
  {
   "cell_type": "code",
   "execution_count": null,
   "id": "7e8ff790-6882-41c3-abd0-dce5e50f0083",
   "metadata": {},
   "outputs": [],
   "source": []
  },
  {
   "cell_type": "code",
   "execution_count": null,
   "id": "8f3fabb9-4170-4c2d-b978-368c3a5eff8d",
   "metadata": {},
   "outputs": [],
   "source": []
  }
 ],
 "metadata": {
  "kernelspec": {
   "display_name": "Python 3 (ipykernel)",
   "language": "python",
   "name": "python3"
  },
  "language_info": {
   "codemirror_mode": {
    "name": "ipython",
    "version": 3
   },
   "file_extension": ".py",
   "mimetype": "text/x-python",
   "name": "python",
   "nbconvert_exporter": "python",
   "pygments_lexer": "ipython3",
   "version": "3.12.4"
  }
 },
 "nbformat": 4,
 "nbformat_minor": 5
}
