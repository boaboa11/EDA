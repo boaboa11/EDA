{
 "cells": [
  {
   "cell_type": "code",
   "execution_count": 28,
   "id": "f5bc4fc0-52dc-4ba2-9087-db97f5b96591",
   "metadata": {},
   "outputs": [],
   "source": [
    "import pandas as pd\n",
    "\n",
    "#  Load the data into a Pandas dataframe\n",
    "filepath = r'C:\\Users\\boa\\Downloads\\Sacramentorealestatetransactions.csv'\n",
    "df = pd.read_csv(filepath)"
   ]
  },
  {
   "cell_type": "code",
   "execution_count": 22,
   "id": "92588009-0185-42a4-b521-29ae5995042d",
   "metadata": {},
   "outputs": [
    {
     "name": "stdout",
     "output_type": "stream",
     "text": [
      "Number of rows: 985\n",
      "Number of columns: 12\n"
     ]
    }
   ],
   "source": [
    "# Use Pandas to count the number of rows of data and number of columns\n",
    "\n",
    "num_rows, num_columns = df.shape\n",
    "print(f'Number of rows: {num_rows}')\n",
    "print(f'Number of columns: {num_columns}')"
   ]
  },
  {
   "cell_type": "code",
   "execution_count": 30,
   "id": "70b7fc7e-90d7-4123-9b00-bd9878e796ea",
   "metadata": {},
   "outputs": [
    {
     "name": "stdout",
     "output_type": "stream",
     "text": [
      "                street        city    zip state  beds  baths  sq__ft  \\\n",
      "0         3526 HIGH ST  SACRAMENTO  95838    CA     2      1     836   \n",
      "1          51 OMAHA CT  SACRAMENTO  95823    CA     3      1    1167   \n",
      "2       2796 BRANCH ST  SACRAMENTO  95815    CA     2      1     796   \n",
      "3     2805 JANETTE WAY  SACRAMENTO  95815    CA     2      1     852   \n",
      "4      6001 MCMAHON DR  SACRAMENTO  95824    CA     2      1     797   \n",
      "5   5828 PEPPERMILL CT  SACRAMENTO  95841    CA     3      1    1122   \n",
      "6  6048 OGDEN NASH WAY  SACRAMENTO  95842    CA     3      2    1104   \n",
      "7        2561 19TH AVE  SACRAMENTO  95820    CA     3      1    1177   \n",
      "\n",
      "          type                     sale_date  price   latitude   longitude  \n",
      "0  Residential  Wed May 21 00:00:00 EDT 2008  59222  38.631913 -121.434879  \n",
      "1  Residential  Wed May 21 00:00:00 EDT 2008  68212  38.478902 -121.431028  \n",
      "2  Residential  Wed May 21 00:00:00 EDT 2008  68880  38.618305 -121.443839  \n",
      "3  Residential  Wed May 21 00:00:00 EDT 2008  69307  38.616835 -121.439146  \n",
      "4  Residential  Wed May 21 00:00:00 EDT 2008  81900  38.519470 -121.435768  \n",
      "5        Condo  Wed May 21 00:00:00 EDT 2008  89921  38.662595 -121.327813  \n",
      "6  Residential  Wed May 21 00:00:00 EDT 2008  90895  38.681659 -121.351705  \n",
      "7  Residential  Wed May 21 00:00:00 EDT 2008  91002  38.535092 -121.481367  \n"
     ]
    }
   ],
   "source": [
    "# Display the first 8 rows of the dataframe\n",
    "\n",
    "print(df.head(8))"
   ]
  },
  {
   "cell_type": "code",
   "execution_count": 32,
   "id": "6f1b10e6-2fb7-412c-9b8e-dc32082c01f4",
   "metadata": {},
   "outputs": [
    {
     "name": "stdout",
     "output_type": "stream",
     "text": [
      "                  street             city    zip state  beds  baths  sq__ft  \\\n",
      "982    7933 DAFFODIL WAY   CITRUS HEIGHTS  95610    CA     3      2    1216   \n",
      "983     8304 RED FOX WAY        ELK GROVE  95758    CA     4      2    1685   \n",
      "984  3882 YELLOWSTONE LN  EL DORADO HILLS  95762    CA     3      2    1362   \n",
      "\n",
      "            type                     sale_date   price   latitude   longitude  \n",
      "982  Residential  Thu May 15 00:00:00 EDT 2008  235000  38.708824 -121.256803  \n",
      "983  Residential  Thu May 15 00:00:00 EDT 2008  235301  38.417000 -121.397424  \n",
      "984  Residential  Thu May 15 00:00:00 EDT 2008  235738  38.655245 -121.075915  \n"
     ]
    }
   ],
   "source": [
    "# Display the bottom 3 rows of the dataframe\n",
    "print(df.tail(3))"
   ]
  },
  {
   "cell_type": "code",
   "execution_count": 34,
   "id": "d4143daf-211c-4f76-9c8e-e08c4ea684cf",
   "metadata": {},
   "outputs": [
    {
     "name": "stdout",
     "output_type": "stream",
     "text": [
      "                                      0                             1  \\\n",
      "street                     3526 HIGH ST                   51 OMAHA CT   \n",
      "city                         SACRAMENTO                    SACRAMENTO   \n",
      "zip                               95838                         95823   \n",
      "state                                CA                            CA   \n",
      "beds                                  2                             3   \n",
      "baths                                 1                             1   \n",
      "sq__ft                              836                          1167   \n",
      "type                        Residential                   Residential   \n",
      "sale_date  Wed May 21 00:00:00 EDT 2008  Wed May 21 00:00:00 EDT 2008   \n",
      "price                             59222                         68212   \n",
      "latitude                      38.631913                     38.478902   \n",
      "longitude                   -121.434879                   -121.431028   \n",
      "\n",
      "                                      2                             3  \n",
      "street                   2796 BRANCH ST              2805 JANETTE WAY  \n",
      "city                         SACRAMENTO                    SACRAMENTO  \n",
      "zip                               95815                         95815  \n",
      "state                                CA                            CA  \n",
      "beds                                  2                             2  \n",
      "baths                                 1                             1  \n",
      "sq__ft                              796                           852  \n",
      "type                        Residential                   Residential  \n",
      "sale_date  Wed May 21 00:00:00 EDT 2008  Wed May 21 00:00:00 EDT 2008  \n",
      "price                             68880                         69307  \n",
      "latitude                      38.618305                     38.616835  \n",
      "longitude                   -121.443839                   -121.439146  \n"
     ]
    }
   ],
   "source": [
    "# Display the transpose of the first 4 rows\n",
    "print(df.head(4).T)"
   ]
  },
  {
   "cell_type": "code",
   "execution_count": null,
   "id": "c90d0abb-dc3b-4d79-a8d7-59bf506364f6",
   "metadata": {},
   "outputs": [],
   "source": []
  }
 ],
 "metadata": {
  "kernelspec": {
   "display_name": "Python 3 (ipykernel)",
   "language": "python",
   "name": "python3"
  },
  "language_info": {
   "codemirror_mode": {
    "name": "ipython",
    "version": 3
   },
   "file_extension": ".py",
   "mimetype": "text/x-python",
   "name": "python",
   "nbconvert_exporter": "python",
   "pygments_lexer": "ipython3",
   "version": "3.12.4"
  }
 },
 "nbformat": 4,
 "nbformat_minor": 5
}
