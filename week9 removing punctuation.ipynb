{
 "cells": [
  {
   "cell_type": "code",
   "execution_count": 61,
   "id": "046ce347-9c45-4095-92c6-db329491d603",
   "metadata": {},
   "outputs": [
    {
     "name": "stdout",
     "output_type": "stream",
     "text": [
      "['C:\\\\Users\\\\boa\\\\Desktop\\\\week_10_txt_and_docx\\\\52256-0.txt', 'C:\\\\Users\\\\boa\\\\Desktop\\\\week_10_txt_and_docx\\\\53031-0.txt', 'C:\\\\Users\\\\boa\\\\Desktop\\\\week_10_txt_and_docx\\\\58108-0.txt', 'C:\\\\Users\\\\boa\\\\Desktop\\\\week_10_txt_and_docx\\\\blind_text.txt', 'C:\\\\Users\\\\boa\\\\Desktop\\\\week_10_txt_and_docx\\\\dr_yawn.txt', 'C:\\\\Users\\\\boa\\\\Desktop\\\\week_10_txt_and_docx\\\\how_rubber_goods_are_made.txt', 'C:\\\\Users\\\\boa\\\\Desktop\\\\week_10_txt_and_docx\\\\most_boring_ever.txt', 'C:\\\\Users\\\\boa\\\\Desktop\\\\week_10_txt_and_docx\\\\most_boring_part2.txt', 'C:\\\\Users\\\\boa\\\\Desktop\\\\week_10_txt_and_docx\\\\pg12814.txt', 'C:\\\\Users\\\\boa\\\\Desktop\\\\week_10_txt_and_docx\\\\pg14895.txt', 'C:\\\\Users\\\\boa\\\\Desktop\\\\week_10_txt_and_docx\\\\pg43994.txt', 'C:\\\\Users\\\\boa\\\\Desktop\\\\week_10_txt_and_docx\\\\random_text.txt', 'C:\\\\Users\\\\boa\\\\Desktop\\\\week_10_txt_and_docx\\\\smiley_the_bunny.txt', 'C:\\\\Users\\\\boa\\\\Desktop\\\\week_10_txt_and_docx\\\\week_10_document1.docx', 'C:\\\\Users\\\\boa\\\\Desktop\\\\week_10_txt_and_docx\\\\week_10_document2.docx']\n",
      "\"52256-0.txt\"\n",
      "\"53031-0.txt\"\n",
      "\"58108-0.txt\"\n",
      "\"blind_text.txt\"\n",
      "\"dr_yawn.txt\"\n",
      "\"how_rubber_goods_are_made.txt\"\n",
      "\"most_boring_ever.txt\"\n",
      "\"most_boring_part2.txt\"\n",
      "\"pg12814.txt\"\n",
      "\"pg14895.txt\"\n",
      "\"pg43994.txt\"\n",
      "\"random_text.txt\"\n",
      "\"smiley_the_bunny.txt\"\n",
      "\"week_10_document1.docx\"\n",
      "\"week_10_document2.docx\"\n",
      "Processing complete. Check output.dat for results.\n"
     ]
    }
   ],
   "source": [
    "import glob\n",
    "import string\n",
    "import nltk\n",
    "import os\n",
    "from nltk.corpus import stopwords\n",
    "from docx import Document\n",
    "\n",
    "# Get the list of .txt and .docx files\n",
    "file_list = glob.glob('C:\\\\Users\\\\boa\\\\Desktop\\\\week_10_txt_and_docx\\\\*.txt') + glob.glob('C:\\\\Users\\\\boa\\\\Desktop\\\\week_10_txt_and_docx\\\\*.docx')\n",
    "print(file_list)\n",
    "\n",
    "# Initialize stop words and punctuation\n",
    "stop_words = set(stopwords.words('english'))\n",
    "punctuation = string.punctuation\n",
    "\n",
    "# Function to clean text\n",
    "def clean_text(text):\n",
    "    # Remove punctuation\n",
    "    text = ''.join(char for char in text if char not in punctuation)\n",
    "    # Convert to lowercase\n",
    "    words = text.lower().split()\n",
    "    # Remove stop words\n",
    "    words = [word for word in words if word not in stop_words]\n",
    "    # Return unique words\n",
    "    return sorted(set(words))\n",
    "    \n",
    "# Prepare output content\n",
    "output_lines = []\n",
    "\n",
    "for file in file_list:\n",
    "    if file.endswith('.txt'):\n",
    "        with open(file, 'r', encoding='utf-8') as f:\n",
    "            content = f.read()\n",
    "    elif file.endswith('.docx'):\n",
    "        doc = Document(file)\n",
    "        content = ' '.join([para.text for para in doc.paragraphs])\n",
    "\n",
    "    # Clean the content\n",
    "    unique_words = clean_text(content)\n",
    "    file_name = f'\"{os.path.basename(file)}\"'  # Get the file name\n",
    "    \n",
    "    output_line = f'{file_name} : {\", \".join(unique_words)}'\n",
    "    output_lines.append(output_line)\n",
    "    print(file_name)\n",
    "\n",
    "# Write to .dat file\n",
    "with open('output.dat', 'w', encoding='utf-8') as out_file:\n",
    "    for line in output_lines:\n",
    "        out_file.write(line + '\\n')\n",
    "\n",
    "print(\"It is complete. Please check output.dat for results.\")"
   ]
  },
  {
   "cell_type": "code",
   "execution_count": null,
   "id": "b278642d-42dc-429c-af03-a21c59d8a43b",
   "metadata": {},
   "outputs": [],
   "source": []
  }
 ],
 "metadata": {
  "kernelspec": {
   "display_name": "Python (oldnumpyenv)",
   "language": "python",
   "name": "oldnumpyenv"
  },
  "language_info": {
   "codemirror_mode": {
    "name": "ipython",
    "version": 3
   },
   "file_extension": ".py",
   "mimetype": "text/x-python",
   "name": "python",
   "nbconvert_exporter": "python",
   "pygments_lexer": "ipython3",
   "version": "3.10.14"
  }
 },
 "nbformat": 4,
 "nbformat_minor": 5
}
