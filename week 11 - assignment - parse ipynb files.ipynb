{
 "cells": [
  {
   "cell_type": "code",
   "execution_count": 8,
   "id": "bf0bf6d9-1950-4641-b02e-024293cf3a30",
   "metadata": {},
   "outputs": [
    {
     "name": "stdout",
     "output_type": "stream",
     "text": [
      "Unique modules used across notebooks: ['bs4', 'docx', 'faker', 'glob', 'matplotlib.pyplot', 'nltk', 'nltk.corpus', 'numba', 'numpy', 'openpyxl', 'os', 'pandas', 'random', 'seaborn', 'string', 'time', 'xml.etree.ElementTree']\n",
      "Total lines of Python code for 601: 633\n"
     ]
    }
   ],
   "source": [
    "import glob\n",
    "import json\n",
    "import re\n",
    "\n",
    "# Step 1: Locate .ipynb files\n",
    "notebook_files = glob.glob(r'C:\\Users\\boa\\Desktop\\601\\*.ipynb')  \n",
    "\n",
    "# Initialize containers\n",
    "unique_modules = set()\n",
    "total_code_lines = 0\n",
    "\n",
    "# Step 2: Define a function to parse each notebook and extract modules and line count\n",
    "def parse_notebook(file_path):\n",
    "    global total_code_lines\n",
    "    with open(file_path, 'r', encoding='utf-8') as f:\n",
    "        notebook_content = json.load(f)\n",
    "        \n",
    "    # Loop through cells to find code cells\n",
    "    for cell in notebook_content['cells']:\n",
    "        if cell['cell_type'] == 'code':\n",
    "            for line in cell['source']:\n",
    "                total_code_lines += 1\n",
    "                # Check if line starts with import statements\n",
    "                if line.strip().startswith('import') or line.strip().startswith('from'):\n",
    "                    # Find the module name in \"import module\" or \"from module import x\" formats\n",
    "                    match = re.match(r'^\\s*(?:from|import)\\s+([\\w.]+)', line)\n",
    "                    if match:\n",
    "                        unique_modules.add(match.group(1))\n",
    "\n",
    "# Step 3: Loop through all notebooks and parse\n",
    "for notebook in notebook_files:\n",
    "    parse_notebook(notebook)\n",
    "\n",
    "# Step 4: Output results\n",
    "print(\"Unique modules used across notebooks:\", sorted(unique_modules))\n",
    "print(\"Total lines of Python code for 601:\", total_code_lines)\n"
   ]
  },
  {
   "cell_type": "code",
   "execution_count": null,
   "id": "f63d08a2-d29e-4d3e-a7c3-85af74787694",
   "metadata": {},
   "outputs": [],
   "source": []
  }
 ],
 "metadata": {
  "kernelspec": {
   "display_name": "Python (oldnumpyenv)",
   "language": "python",
   "name": "oldnumpyenv"
  },
  "language_info": {
   "codemirror_mode": {
    "name": "ipython",
    "version": 3
   },
   "file_extension": ".py",
   "mimetype": "text/x-python",
   "name": "python",
   "nbconvert_exporter": "python",
   "pygments_lexer": "ipython3",
   "version": "3.10.14"
  }
 },
 "nbformat": 4,
 "nbformat_minor": 5
}
