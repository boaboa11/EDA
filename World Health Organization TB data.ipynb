{
 "cells": [
  {
   "cell_type": "markdown",
   "metadata": {},
   "source": [
    "\n",
    "Data documentation: https://tidyr.tidyverse.org/reference/who.html\n",
    "\n",
    "__Directions:__ Answer the three questions below. Create as many code/markdown blocks necessary to answer the questions. "
   ]
  },
  {
   "cell_type": "code",
   "execution_count": 3,
   "metadata": {},
   "outputs": [],
   "source": [
    "import pandas as pd\n",
    "import numpy as np\n",
    "import matplotlib.pyplot as plt\n",
    "%matplotlib inline\n",
    "import seaborn as sns\n",
    "\n",
    "df = pd.read_csv('https://raw.githubusercontent.com/msaricaumbc/DS_data/master/ds602/who.csv')"
   ]
  },
  {
   "cell_type": "code",
   "execution_count": 4,
   "metadata": {},
   "outputs": [
    {
     "data": {
      "text/html": [
       "<div>\n",
       "<style scoped>\n",
       "    .dataframe tbody tr th:only-of-type {\n",
       "        vertical-align: middle;\n",
       "    }\n",
       "\n",
       "    .dataframe tbody tr th {\n",
       "        vertical-align: top;\n",
       "    }\n",
       "\n",
       "    .dataframe thead th {\n",
       "        text-align: right;\n",
       "    }\n",
       "</style>\n",
       "<table border=\"1\" class=\"dataframe\">\n",
       "  <thead>\n",
       "    <tr style=\"text-align: right;\">\n",
       "      <th></th>\n",
       "      <th>country</th>\n",
       "      <th>iso2</th>\n",
       "      <th>iso3</th>\n",
       "      <th>year</th>\n",
       "      <th>new_sp_m014</th>\n",
       "      <th>new_sp_m1524</th>\n",
       "      <th>new_sp_m2534</th>\n",
       "      <th>new_sp_m3544</th>\n",
       "      <th>new_sp_m4554</th>\n",
       "      <th>new_sp_m5564</th>\n",
       "      <th>...</th>\n",
       "      <th>newrel_m4554</th>\n",
       "      <th>newrel_m5564</th>\n",
       "      <th>newrel_m65</th>\n",
       "      <th>newrel_f014</th>\n",
       "      <th>newrel_f1524</th>\n",
       "      <th>newrel_f2534</th>\n",
       "      <th>newrel_f3544</th>\n",
       "      <th>newrel_f4554</th>\n",
       "      <th>newrel_f5564</th>\n",
       "      <th>newrel_f65</th>\n",
       "    </tr>\n",
       "  </thead>\n",
       "  <tbody>\n",
       "    <tr>\n",
       "      <th>0</th>\n",
       "      <td>Afghanistan</td>\n",
       "      <td>AF</td>\n",
       "      <td>AFG</td>\n",
       "      <td>1980</td>\n",
       "      <td>NaN</td>\n",
       "      <td>NaN</td>\n",
       "      <td>NaN</td>\n",
       "      <td>NaN</td>\n",
       "      <td>NaN</td>\n",
       "      <td>NaN</td>\n",
       "      <td>...</td>\n",
       "      <td>NaN</td>\n",
       "      <td>NaN</td>\n",
       "      <td>NaN</td>\n",
       "      <td>NaN</td>\n",
       "      <td>NaN</td>\n",
       "      <td>NaN</td>\n",
       "      <td>NaN</td>\n",
       "      <td>NaN</td>\n",
       "      <td>NaN</td>\n",
       "      <td>NaN</td>\n",
       "    </tr>\n",
       "    <tr>\n",
       "      <th>1</th>\n",
       "      <td>Afghanistan</td>\n",
       "      <td>AF</td>\n",
       "      <td>AFG</td>\n",
       "      <td>1981</td>\n",
       "      <td>NaN</td>\n",
       "      <td>NaN</td>\n",
       "      <td>NaN</td>\n",
       "      <td>NaN</td>\n",
       "      <td>NaN</td>\n",
       "      <td>NaN</td>\n",
       "      <td>...</td>\n",
       "      <td>NaN</td>\n",
       "      <td>NaN</td>\n",
       "      <td>NaN</td>\n",
       "      <td>NaN</td>\n",
       "      <td>NaN</td>\n",
       "      <td>NaN</td>\n",
       "      <td>NaN</td>\n",
       "      <td>NaN</td>\n",
       "      <td>NaN</td>\n",
       "      <td>NaN</td>\n",
       "    </tr>\n",
       "    <tr>\n",
       "      <th>2</th>\n",
       "      <td>Afghanistan</td>\n",
       "      <td>AF</td>\n",
       "      <td>AFG</td>\n",
       "      <td>1982</td>\n",
       "      <td>NaN</td>\n",
       "      <td>NaN</td>\n",
       "      <td>NaN</td>\n",
       "      <td>NaN</td>\n",
       "      <td>NaN</td>\n",
       "      <td>NaN</td>\n",
       "      <td>...</td>\n",
       "      <td>NaN</td>\n",
       "      <td>NaN</td>\n",
       "      <td>NaN</td>\n",
       "      <td>NaN</td>\n",
       "      <td>NaN</td>\n",
       "      <td>NaN</td>\n",
       "      <td>NaN</td>\n",
       "      <td>NaN</td>\n",
       "      <td>NaN</td>\n",
       "      <td>NaN</td>\n",
       "    </tr>\n",
       "    <tr>\n",
       "      <th>3</th>\n",
       "      <td>Afghanistan</td>\n",
       "      <td>AF</td>\n",
       "      <td>AFG</td>\n",
       "      <td>1983</td>\n",
       "      <td>NaN</td>\n",
       "      <td>NaN</td>\n",
       "      <td>NaN</td>\n",
       "      <td>NaN</td>\n",
       "      <td>NaN</td>\n",
       "      <td>NaN</td>\n",
       "      <td>...</td>\n",
       "      <td>NaN</td>\n",
       "      <td>NaN</td>\n",
       "      <td>NaN</td>\n",
       "      <td>NaN</td>\n",
       "      <td>NaN</td>\n",
       "      <td>NaN</td>\n",
       "      <td>NaN</td>\n",
       "      <td>NaN</td>\n",
       "      <td>NaN</td>\n",
       "      <td>NaN</td>\n",
       "    </tr>\n",
       "    <tr>\n",
       "      <th>4</th>\n",
       "      <td>Afghanistan</td>\n",
       "      <td>AF</td>\n",
       "      <td>AFG</td>\n",
       "      <td>1984</td>\n",
       "      <td>NaN</td>\n",
       "      <td>NaN</td>\n",
       "      <td>NaN</td>\n",
       "      <td>NaN</td>\n",
       "      <td>NaN</td>\n",
       "      <td>NaN</td>\n",
       "      <td>...</td>\n",
       "      <td>NaN</td>\n",
       "      <td>NaN</td>\n",
       "      <td>NaN</td>\n",
       "      <td>NaN</td>\n",
       "      <td>NaN</td>\n",
       "      <td>NaN</td>\n",
       "      <td>NaN</td>\n",
       "      <td>NaN</td>\n",
       "      <td>NaN</td>\n",
       "      <td>NaN</td>\n",
       "    </tr>\n",
       "  </tbody>\n",
       "</table>\n",
       "<p>5 rows × 60 columns</p>\n",
       "</div>"
      ],
      "text/plain": [
       "       country iso2 iso3  year  new_sp_m014  new_sp_m1524  new_sp_m2534  \\\n",
       "0  Afghanistan   AF  AFG  1980          NaN           NaN           NaN   \n",
       "1  Afghanistan   AF  AFG  1981          NaN           NaN           NaN   \n",
       "2  Afghanistan   AF  AFG  1982          NaN           NaN           NaN   \n",
       "3  Afghanistan   AF  AFG  1983          NaN           NaN           NaN   \n",
       "4  Afghanistan   AF  AFG  1984          NaN           NaN           NaN   \n",
       "\n",
       "   new_sp_m3544  new_sp_m4554  new_sp_m5564  ...  newrel_m4554  newrel_m5564  \\\n",
       "0           NaN           NaN           NaN  ...           NaN           NaN   \n",
       "1           NaN           NaN           NaN  ...           NaN           NaN   \n",
       "2           NaN           NaN           NaN  ...           NaN           NaN   \n",
       "3           NaN           NaN           NaN  ...           NaN           NaN   \n",
       "4           NaN           NaN           NaN  ...           NaN           NaN   \n",
       "\n",
       "   newrel_m65  newrel_f014  newrel_f1524  newrel_f2534  newrel_f3544  \\\n",
       "0         NaN          NaN           NaN           NaN           NaN   \n",
       "1         NaN          NaN           NaN           NaN           NaN   \n",
       "2         NaN          NaN           NaN           NaN           NaN   \n",
       "3         NaN          NaN           NaN           NaN           NaN   \n",
       "4         NaN          NaN           NaN           NaN           NaN   \n",
       "\n",
       "   newrel_f4554  newrel_f5564  newrel_f65  \n",
       "0           NaN           NaN         NaN  \n",
       "1           NaN           NaN         NaN  \n",
       "2           NaN           NaN         NaN  \n",
       "3           NaN           NaN         NaN  \n",
       "4           NaN           NaN         NaN  \n",
       "\n",
       "[5 rows x 60 columns]"
      ]
     },
     "execution_count": 4,
     "metadata": {},
     "output_type": "execute_result"
    }
   ],
   "source": [
    "df.head()"
   ]
  },
  {
   "cell_type": "code",
   "execution_count": 7,
   "metadata": {},
   "outputs": [
    {
     "name": "stdout",
     "output_type": "stream",
     "text": [
      "<class 'pandas.core.frame.DataFrame'>\n",
      "RangeIndex: 7240 entries, 0 to 7239\n",
      "Data columns (total 58 columns):\n",
      " #   Column        Non-Null Count  Dtype  \n",
      "---  ------        --------------  -----  \n",
      " 0   country       7240 non-null   object \n",
      " 1   year          7240 non-null   int64  \n",
      " 2   new_sp_m014   3173 non-null   float64\n",
      " 3   new_sp_m1524  3209 non-null   float64\n",
      " 4   new_sp_m2534  3206 non-null   float64\n",
      " 5   new_sp_m3544  3219 non-null   float64\n",
      " 6   new_sp_m4554  3223 non-null   float64\n",
      " 7   new_sp_m5564  3218 non-null   float64\n",
      " 8   new_sp_m65    3209 non-null   float64\n",
      " 9   new_sp_f014   3174 non-null   float64\n",
      " 10  new_sp_f1524  3194 non-null   float64\n",
      " 11  new_sp_f2534  3200 non-null   float64\n",
      " 12  new_sp_f3544  3199 non-null   float64\n",
      " 13  new_sp_f4554  3204 non-null   float64\n",
      " 14  new_sp_f5564  3195 non-null   float64\n",
      " 15  new_sp_f65    3197 non-null   float64\n",
      " 16  new_sn_m014   1045 non-null   float64\n",
      " 17  new_sn_m1524  1030 non-null   float64\n",
      " 18  new_sn_m2534  1022 non-null   float64\n",
      " 19  new_sn_m3544  1025 non-null   float64\n",
      " 20  new_sn_m4554  1027 non-null   float64\n",
      " 21  new_sn_m5564  1021 non-null   float64\n",
      " 22  new_sn_m65    1020 non-null   float64\n",
      " 23  new_sn_f014   1040 non-null   float64\n",
      " 24  new_sn_f1524  1022 non-null   float64\n",
      " 25  new_sn_f2534  1016 non-null   float64\n",
      " 26  new_sn_f3544  1020 non-null   float64\n",
      " 27  new_sn_f4554  1018 non-null   float64\n",
      " 28  new_sn_f5564  1017 non-null   float64\n",
      " 29  new_sn_f65    1019 non-null   float64\n",
      " 30  new_ep_m014   1038 non-null   float64\n",
      " 31  new_ep_m1524  1026 non-null   float64\n",
      " 32  new_ep_m2534  1020 non-null   float64\n",
      " 33  new_ep_m3544  1024 non-null   float64\n",
      " 34  new_ep_m4554  1020 non-null   float64\n",
      " 35  new_ep_m5564  1015 non-null   float64\n",
      " 36  new_ep_m65    1018 non-null   float64\n",
      " 37  new_ep_f014   1032 non-null   float64\n",
      " 38  new_ep_f1524  1021 non-null   float64\n",
      " 39  new_ep_f2534  1021 non-null   float64\n",
      " 40  new_ep_f3544  1021 non-null   float64\n",
      " 41  new_ep_f4554  1017 non-null   float64\n",
      " 42  new_ep_f5564  1017 non-null   float64\n",
      " 43  new_ep_f65    1014 non-null   float64\n",
      " 44  newrel_m014   190 non-null    float64\n",
      " 45  newrel_m1524  182 non-null    float64\n",
      " 46  newrel_m2534  183 non-null    float64\n",
      " 47  newrel_m3544  184 non-null    float64\n",
      " 48  newrel_m4554  184 non-null    float64\n",
      " 49  newrel_m5564  185 non-null    float64\n",
      " 50  newrel_m65    182 non-null    float64\n",
      " 51  newrel_f014   190 non-null    float64\n",
      " 52  newrel_f1524  184 non-null    float64\n",
      " 53  newrel_f2534  182 non-null    float64\n",
      " 54  newrel_f3544  183 non-null    float64\n",
      " 55  newrel_f4554  183 non-null    float64\n",
      " 56  newrel_f5564  183 non-null    float64\n",
      " 57  newrel_f65    185 non-null    float64\n",
      "dtypes: float64(56), int64(1), object(1)\n",
      "memory usage: 3.2+ MB\n"
     ]
    }
   ],
   "source": [
    "df = df.drop(columns=['iso2', 'iso3'])\n",
    "df.info()"
   ]
  },
  {
   "cell_type": "markdown",
   "metadata": {},
   "source": [
    "## Question 1. We need to know what's included in this data.\n",
    "- How many countries are present?  \n",
    "- What's the timespan of the data?  \n",
    "- Does each country have a row for every year present?  \n",
    "- Which countries are missing years?  \n",
    "- How many rows have at least 1 non-null values across the columns 3-57?"
   ]
  },
  {
   "cell_type": "code",
   "execution_count": 9,
   "metadata": {},
   "outputs": [
    {
     "name": "stdout",
     "output_type": "stream",
     "text": [
      "Number of unique countries: 219\n"
     ]
    }
   ],
   "source": [
    "# Count countries\n",
    "num_countries = df['country'].nunique()\n",
    "\n",
    "print(f\"Number of unique countries: {num_countries}\")"
   ]
  },
  {
   "cell_type": "code",
   "execution_count": 11,
   "metadata": {},
   "outputs": [
    {
     "name": "stdout",
     "output_type": "stream",
     "text": [
      "Timespan of the data: 1980 - 2013\n"
     ]
    }
   ],
   "source": [
    "# Get the timespan\n",
    "start_year = df[\"year\"].min()\n",
    "end_year = df[\"year\"].max()\n",
    "\n",
    "print(f\"Timespan of the data: {start_year} - {end_year}\")"
   ]
  },
  {
   "cell_type": "markdown",
   "metadata": {},
   "source": [
    "#### Does each country have a row for every year present? No. The following are missing (country, year) pairs."
   ]
  },
  {
   "cell_type": "code",
   "execution_count": 17,
   "metadata": {},
   "outputs": [
    {
     "name": "stdout",
     "output_type": "stream",
     "text": [
      "                          country  year\n",
      "Bonaire, Saint Eustatius and Saba  1980\n",
      "Bonaire, Saint Eustatius and Saba  1981\n",
      "Bonaire, Saint Eustatius and Saba  1982\n",
      "Bonaire, Saint Eustatius and Saba  1983\n",
      "Bonaire, Saint Eustatius and Saba  1984\n",
      "Bonaire, Saint Eustatius and Saba  1985\n",
      "Bonaire, Saint Eustatius and Saba  1986\n",
      "Bonaire, Saint Eustatius and Saba  1987\n",
      "Bonaire, Saint Eustatius and Saba  1988\n",
      "Bonaire, Saint Eustatius and Saba  1989\n",
      "Bonaire, Saint Eustatius and Saba  1990\n",
      "Bonaire, Saint Eustatius and Saba  1991\n",
      "Bonaire, Saint Eustatius and Saba  1992\n",
      "Bonaire, Saint Eustatius and Saba  1993\n",
      "Bonaire, Saint Eustatius and Saba  1994\n",
      "Bonaire, Saint Eustatius and Saba  1995\n",
      "Bonaire, Saint Eustatius and Saba  1996\n",
      "Bonaire, Saint Eustatius and Saba  1997\n",
      "Bonaire, Saint Eustatius and Saba  1998\n",
      "Bonaire, Saint Eustatius and Saba  1999\n",
      "Bonaire, Saint Eustatius and Saba  2000\n",
      "Bonaire, Saint Eustatius and Saba  2001\n",
      "Bonaire, Saint Eustatius and Saba  2002\n",
      "Bonaire, Saint Eustatius and Saba  2003\n",
      "Bonaire, Saint Eustatius and Saba  2004\n",
      "Bonaire, Saint Eustatius and Saba  2005\n",
      "Bonaire, Saint Eustatius and Saba  2006\n",
      "Bonaire, Saint Eustatius and Saba  2007\n",
      "Bonaire, Saint Eustatius and Saba  2008\n",
      "Bonaire, Saint Eustatius and Saba  2009\n",
      "                          Curacao  1980\n",
      "                          Curacao  1981\n",
      "                          Curacao  1982\n",
      "                          Curacao  1983\n",
      "                          Curacao  1984\n",
      "                          Curacao  1985\n",
      "                          Curacao  1986\n",
      "                          Curacao  1987\n",
      "                          Curacao  1988\n",
      "                          Curacao  1989\n",
      "                          Curacao  1990\n",
      "                          Curacao  1991\n",
      "                          Curacao  1992\n",
      "                          Curacao  1993\n",
      "                          Curacao  1994\n",
      "                          Curacao  1995\n",
      "                          Curacao  1996\n",
      "                          Curacao  1997\n",
      "                          Curacao  1998\n",
      "                          Curacao  1999\n",
      "                          Curacao  2000\n",
      "                          Curacao  2001\n",
      "                          Curacao  2002\n",
      "                          Curacao  2003\n",
      "                          Curacao  2004\n",
      "                          Curacao  2005\n",
      "                          Curacao  2006\n",
      "                          Curacao  2007\n",
      "                          Curacao  2008\n",
      "                          Curacao  2009\n",
      "                       Montenegro  1980\n",
      "                       Montenegro  1981\n",
      "                       Montenegro  1982\n",
      "                       Montenegro  1983\n",
      "                       Montenegro  1984\n",
      "                       Montenegro  1985\n",
      "                       Montenegro  1986\n",
      "                       Montenegro  1987\n",
      "                       Montenegro  1988\n",
      "                       Montenegro  1989\n",
      "                       Montenegro  1990\n",
      "                       Montenegro  1991\n",
      "                       Montenegro  1992\n",
      "                       Montenegro  1993\n",
      "                       Montenegro  1994\n",
      "                       Montenegro  1995\n",
      "                       Montenegro  1996\n",
      "                       Montenegro  1997\n",
      "                       Montenegro  1998\n",
      "                       Montenegro  1999\n",
      "                       Montenegro  2000\n",
      "                       Montenegro  2001\n",
      "                       Montenegro  2002\n",
      "                       Montenegro  2003\n",
      "                       Montenegro  2004\n",
      "             Netherlands Antilles  2010\n",
      "             Netherlands Antilles  2011\n",
      "             Netherlands Antilles  2012\n",
      "             Netherlands Antilles  2013\n",
      "                           Serbia  1980\n",
      "                           Serbia  1981\n",
      "                           Serbia  1982\n",
      "                           Serbia  1983\n",
      "                           Serbia  1984\n",
      "                           Serbia  1985\n",
      "                           Serbia  1986\n",
      "                           Serbia  1987\n",
      "                           Serbia  1988\n",
      "                           Serbia  1989\n",
      "                           Serbia  1990\n",
      "                           Serbia  1991\n",
      "                           Serbia  1992\n",
      "                           Serbia  1993\n",
      "                           Serbia  1994\n",
      "                           Serbia  1995\n",
      "                           Serbia  1996\n",
      "                           Serbia  1997\n",
      "                           Serbia  1998\n",
      "                           Serbia  1999\n",
      "                           Serbia  2000\n",
      "                           Serbia  2001\n",
      "                           Serbia  2002\n",
      "                           Serbia  2003\n",
      "                           Serbia  2004\n",
      "              Serbia & Montenegro  2005\n",
      "              Serbia & Montenegro  2006\n",
      "              Serbia & Montenegro  2007\n",
      "              Serbia & Montenegro  2008\n",
      "              Serbia & Montenegro  2009\n",
      "              Serbia & Montenegro  2010\n",
      "              Serbia & Montenegro  2011\n",
      "              Serbia & Montenegro  2012\n",
      "              Serbia & Montenegro  2013\n",
      "        Sint Maarten (Dutch part)  1980\n",
      "        Sint Maarten (Dutch part)  1981\n",
      "        Sint Maarten (Dutch part)  1982\n",
      "        Sint Maarten (Dutch part)  1983\n",
      "        Sint Maarten (Dutch part)  1984\n",
      "        Sint Maarten (Dutch part)  1985\n",
      "        Sint Maarten (Dutch part)  1986\n",
      "        Sint Maarten (Dutch part)  1987\n",
      "        Sint Maarten (Dutch part)  1988\n",
      "        Sint Maarten (Dutch part)  1989\n",
      "        Sint Maarten (Dutch part)  1990\n",
      "        Sint Maarten (Dutch part)  1991\n",
      "        Sint Maarten (Dutch part)  1992\n",
      "        Sint Maarten (Dutch part)  1993\n",
      "        Sint Maarten (Dutch part)  1994\n",
      "        Sint Maarten (Dutch part)  1995\n",
      "        Sint Maarten (Dutch part)  1996\n",
      "        Sint Maarten (Dutch part)  1997\n",
      "        Sint Maarten (Dutch part)  1998\n",
      "        Sint Maarten (Dutch part)  1999\n",
      "        Sint Maarten (Dutch part)  2000\n",
      "        Sint Maarten (Dutch part)  2001\n",
      "        Sint Maarten (Dutch part)  2002\n",
      "        Sint Maarten (Dutch part)  2003\n",
      "        Sint Maarten (Dutch part)  2004\n",
      "        Sint Maarten (Dutch part)  2005\n",
      "        Sint Maarten (Dutch part)  2006\n",
      "        Sint Maarten (Dutch part)  2007\n",
      "        Sint Maarten (Dutch part)  2008\n",
      "        Sint Maarten (Dutch part)  2009\n",
      "                      South Sudan  1980\n",
      "                      South Sudan  1981\n",
      "                      South Sudan  1982\n",
      "                      South Sudan  1983\n",
      "                      South Sudan  1984\n",
      "                      South Sudan  1985\n",
      "                      South Sudan  1986\n",
      "                      South Sudan  1987\n",
      "                      South Sudan  1988\n",
      "                      South Sudan  1989\n",
      "                      South Sudan  1990\n",
      "                      South Sudan  1991\n",
      "                      South Sudan  1992\n",
      "                      South Sudan  1993\n",
      "                      South Sudan  1994\n",
      "                      South Sudan  1995\n",
      "                      South Sudan  1996\n",
      "                      South Sudan  1997\n",
      "                      South Sudan  1998\n",
      "                      South Sudan  1999\n",
      "                      South Sudan  2000\n",
      "                      South Sudan  2001\n",
      "                      South Sudan  2002\n",
      "                      South Sudan  2003\n",
      "                      South Sudan  2004\n",
      "                      South Sudan  2005\n",
      "                      South Sudan  2006\n",
      "                      South Sudan  2007\n",
      "                      South Sudan  2008\n",
      "                      South Sudan  2009\n",
      "                      South Sudan  2010\n",
      "                      Timor-Leste  1980\n",
      "                      Timor-Leste  1981\n",
      "                      Timor-Leste  1982\n",
      "                      Timor-Leste  1983\n",
      "                      Timor-Leste  1984\n",
      "                      Timor-Leste  1985\n",
      "                      Timor-Leste  1986\n",
      "                      Timor-Leste  1987\n",
      "                      Timor-Leste  1988\n",
      "                      Timor-Leste  1989\n",
      "                      Timor-Leste  1990\n",
      "                      Timor-Leste  1991\n",
      "                      Timor-Leste  1992\n",
      "                      Timor-Leste  1993\n",
      "                      Timor-Leste  1994\n",
      "                      Timor-Leste  1995\n",
      "                      Timor-Leste  1996\n",
      "                      Timor-Leste  1997\n",
      "                      Timor-Leste  1998\n",
      "                      Timor-Leste  1999\n",
      "                      Timor-Leste  2000\n",
      "                      Timor-Leste  2001\n"
     ]
    }
   ],
   "source": [
    "# Get the full range of years and countries\n",
    "all_years = df['year'].unique()\n",
    "all_countries = df['country'].unique()\n",
    "\n",
    "# Create a complete set of (country, year) combinations\n",
    "expected = pd.MultiIndex.from_product([all_countries, all_years], names=['country', 'year'])\n",
    "\n",
    "# Find missing (country, year) pairs\n",
    "df_complete = df.set_index(['country', 'year'])\n",
    "missing = expected.difference(df_complete.index)\n",
    "\n",
    "# Convert missing pairs into a DataFrame\n",
    "missing_df = pd.DataFrame(missing.to_list(), columns=['country', 'year'])\n",
    "\n",
    "# Print missing pairs as a table\n",
    "print(missing_df.to_string(index=False))"
   ]
  },
  {
   "cell_type": "code",
   "execution_count": 25,
   "metadata": {},
   "outputs": [
    {
     "name": "stdout",
     "output_type": "stream",
     "text": [
      "{'Bonaire, Saint Eustatius and Saba': [1980, 1981, 1982, 1983, 1984, 1985, 1986, 1987, 1988, 1989, 1990, 1991, 1992, 1993, 1994, 1995, 1996, 1997, 1998, 1999, 2000, 2001, 2002, 2003, 2004, 2005, 2006, 2007, 2008, 2009], 'Curacao': [1980, 1981, 1982, 1983, 1984, 1985, 1986, 1987, 1988, 1989, 1990, 1991, 1992, 1993, 1994, 1995, 1996, 1997, 1998, 1999, 2000, 2001, 2002, 2003, 2004, 2005, 2006, 2007, 2008, 2009], 'Montenegro': [1980, 1981, 1982, 1983, 1984, 1985, 1986, 1987, 1988, 1989, 1990, 1991, 1992, 1993, 1994, 1995, 1996, 1997, 1998, 1999, 2000, 2001, 2002, 2003, 2004], 'Netherlands Antilles': [2010, 2011, 2012, 2013], 'Serbia': [1980, 1981, 1982, 1983, 1984, 1985, 1986, 1987, 1988, 1989, 1990, 1991, 1992, 1993, 1994, 1995, 1996, 1997, 1998, 1999, 2000, 2001, 2002, 2003, 2004], 'Serbia & Montenegro': [2005, 2006, 2007, 2008, 2009, 2010, 2011, 2012, 2013], 'Sint Maarten (Dutch part)': [1980, 1981, 1982, 1983, 1984, 1985, 1986, 1987, 1988, 1989, 1990, 1991, 1992, 1993, 1994, 1995, 1996, 1997, 1998, 1999, 2000, 2001, 2002, 2003, 2004, 2005, 2006, 2007, 2008, 2009], 'South Sudan': [1980, 1981, 1982, 1983, 1984, 1985, 1986, 1987, 1988, 1989, 1990, 1991, 1992, 1993, 1994, 1995, 1996, 1997, 1998, 1999, 2000, 2001, 2002, 2003, 2004, 2005, 2006, 2007, 2008, 2009, 2010], 'Timor-Leste': [1980, 1981, 1982, 1983, 1984, 1985, 1986, 1987, 1988, 1989, 1990, 1991, 1992, 1993, 1994, 1995, 1996, 1997, 1998, 1999, 2000, 2001]}\n"
     ]
    }
   ],
   "source": [
    "# Get all unique years and countries\n",
    "all_years = set(df['year'].unique())\n",
    "countries = df['country'].unique()\n",
    "\n",
    "# Find missing years for each country\n",
    "missing_years = {}\n",
    "for country in countries:\n",
    "    country_years = set(df[df['country'] == country]['year'])\n",
    "    missing = all_years - country_years\n",
    "    if missing:\n",
    "        missing_years[country] = sorted(missing)\n",
    "\n",
    "print(missing_years)"
   ]
  },
  {
   "cell_type": "code",
   "execution_count": 27,
   "metadata": {},
   "outputs": [
    {
     "name": "stdout",
     "output_type": "stream",
     "text": [
      "3483\n"
     ]
    }
   ],
   "source": [
    "\n",
    "# Select columns 3-57 (index 2 to 56)\n",
    "columns_to_check = df.columns[2:57]\n",
    "\n",
    "# Count rows with at least 1 non-null value across the specified columns\n",
    "rows_with_non_null = df[columns_to_check].notnull().any(axis=1).sum()\n",
    "\n",
    "print(rows_with_non_null)"
   ]
  },
  {
   "cell_type": "markdown",
   "metadata": {},
   "source": [
    "## Question 2: Wide data isn't usually helpful.\n",
    "Convert this to a long format with the following columns:  \n",
    "1. country  \n",
    "2. year  \n",
    "3. diagnosis method: mapping should be: \n",
    "\n",
    "```\n",
    "  {'newsp':'Pulmonary Smear (+)'\n",
    "  ,'newsn':'Pulmonary Smear (-)'\n",
    "  ,'newep':'Extrapulmonary'\n",
    "  ,'newrel':'Relapse'}   \n",
    " ```\n",
    "\n",
    "4. gender: male or female.   \n",
    "5. age: lower_age - higher_age, e.g., 0-14  \n",
    "6. number of cases  \n",
    "\n",
    "__Note__: You can use `replace` (https://pandas.pydata.org/docs/reference/api/pandas.DataFrame.replace.html)"
   ]
  },
  {
   "cell_type": "code",
   "execution_count": 43,
   "metadata": {},
   "outputs": [
    {
     "name": "stdout",
     "output_type": "stream",
     "text": [
      "            country  year     diagnosis method  gender   age  number of cases\n",
      "0       Afghanistan  1980  Pulmonary Smear (+)    male  0-14              NaN\n",
      "1       Afghanistan  1981  Pulmonary Smear (+)    male  0-14              NaN\n",
      "2       Afghanistan  1982  Pulmonary Smear (+)    male  0-14              NaN\n",
      "3       Afghanistan  1983  Pulmonary Smear (+)    male  0-14              NaN\n",
      "4       Afghanistan  1984  Pulmonary Smear (+)    male  0-14              NaN\n",
      "...             ...   ...                  ...     ...   ...              ...\n",
      "405435     Zimbabwe  2009              Relapse  female   NaN              NaN\n",
      "405436     Zimbabwe  2010              Relapse  female   NaN              NaN\n",
      "405437     Zimbabwe  2011              Relapse  female   NaN              NaN\n",
      "405438     Zimbabwe  2012              Relapse  female   NaN              NaN\n",
      "405439     Zimbabwe  2013              Relapse  female   NaN            725.0\n",
      "\n",
      "[405440 rows x 6 columns]\n"
     ]
    }
   ],
   "source": [
    "\n",
    "# Melt the DataFrame to long format\n",
    "df_long = pd.melt(df, id_vars=['country', 'year'], var_name='variable', value_name='number of cases')\n",
    "\n",
    "# Create a dictionary for replacing values in the 'variable' column\n",
    "diagnosis_map = {\n",
    "    'new_sp': 'Pulmonary Smear (+)', \n",
    "    'new_sn': 'Pulmonary Smear (-)', \n",
    "    'new_ep': 'Extrapulmonary', \n",
    "    'newrel': 'Relapse'\n",
    "}\n",
    "\n",
    "gender_map = {\n",
    "    'm': 'male', \n",
    "    'f': 'female'\n",
    "}\n",
    "\n",
    "age_map = {\n",
    "    '014': '0-14',\n",
    "    '1524': '15-24',\n",
    "    '2534': '25-34',\n",
    "    '3544': '35-44',\n",
    "    '4554': '45-54',\n",
    "    '5564': '55-64',\n",
    "    '65': '65'\n",
    "}\n",
    "\n",
    "# Extract and replace the diagnosis method, gender, and age using replace\n",
    "df_long['diagnosis method'] = df_long['variable'].str.extract(r'(new_sp|new_sn|new_ep|newrel)')[0].replace(diagnosis_map)\n",
    "df_long['gender'] = df_long['variable'].str.extract(r'_(m|f)')[0].replace(gender_map)\n",
    "df_long['age'] = df_long['variable'].str.extract(r'(\\d{3,4})')[0].replace(age_map)\n",
    "\n",
    "# Drop the 'variable' column as it's no longer needed\n",
    "df_long = df_long.drop(columns=['variable'])\n",
    "\n",
    "# Ensure the final columns are in the desired order\n",
    "df_long = df_long[['country', 'year', 'diagnosis method', 'gender', 'age', 'number of cases']]\n",
    "\n",
    "# Show the final long format DataFrame\n",
    "print(df_long)\n"
   ]
  },
  {
   "cell_type": "markdown",
   "metadata": {},
   "source": [
    "## Question 3: Create a graph that shows when countries started to report TB cases."
   ]
  },
  {
   "cell_type": "markdown",
   "metadata": {},
   "source": [
    "### Steps:\n",
    "1. Drop rows that have all null values in columns 3 to 58, which means no TB reports of these country.\n",
    "2. Find the First Year of Reporting in cleaned data: Identify the earliest year when each country reported TB cases. Sort by Year: Order the countries based on when they first reported cases.\n",
    "3. Create a Timeline Plot: Use a scatter plot to show the first reporting year for each country."
   ]
  },
  {
   "cell_type": "code",
   "execution_count": 60,
   "metadata": {},
   "outputs": [],
   "source": [
    "# Select columns 3 to 58 (indices 2 to 57)\n",
    "df_years = df.iloc[:, 2:58]\n",
    "\n",
    "# Drop rows that have all null values in these columns\n",
    "df_cleaned = df[df_years.notna().any(axis=1)]\n",
    "\n",
    "# The df_cleaned will now only contain rows with at least one non-null value in columns 3-58\n"
   ]
  },
  {
   "cell_type": "code",
   "execution_count": 62,
   "metadata": {},
   "outputs": [
    {
     "name": "stdout",
     "output_type": "stream",
     "text": [
      "                                             country  year\n",
      "                                              Canada  1980\n",
      "                                        Cook Islands  1980\n",
      "                                            Mongolia  1994\n",
      "                                                Fiji  1994\n",
      "                                          Kyrgyzstan  1995\n",
      "                    Lao People's Democratic Republic  1995\n",
      "                                              Latvia  1995\n",
      "                                             Lebanon  1995\n",
      "                                             Lesotho  1995\n",
      "                                              Zambia  1995\n",
      "                                               Libya  1995\n",
      "                                           Lithuania  1995\n",
      "                                          Madagascar  1995\n",
      "                                              Malawi  1995\n",
      "                                            Malaysia  1995\n",
      "                                            Maldives  1995\n",
      "                                                Mali  1995\n",
      "                                              Kuwait  1995\n",
      "                                               Kenya  1995\n",
      "                                           Sri Lanka  1995\n",
      "                                              Jordan  1995\n",
      "                                              Sweden  1995\n",
      "                                           Swaziland  1995\n",
      "                                               Samoa  1995\n",
      "                                              Guinea  1995\n",
      "                                              Guyana  1995\n",
      "                                            Honduras  1995\n",
      "                                             Iceland  1995\n",
      "                                               India  1995\n",
      "                                           Indonesia  1995\n",
      "                          Iran (Islamic Republic of)  1995\n",
      "                                                Iraq  1995\n",
      "                                               Sudan  1995\n",
      "                                               Italy  1995\n",
      "                                             Jamaica  1995\n",
      "                                               Japan  1995\n",
      "                                               Malta  1995\n",
      "                                               Spain  1995\n",
      "                                           Guatemala  1995\n",
      "                                           Mauritius  1995\n",
      "                                            Pakistan  1995\n",
      "                                               Palau  1995\n",
      "                                              Panama  1995\n",
      "                                            Paraguay  1995\n",
      "                                                Peru  1995\n",
      "                                         Philippines  1995\n",
      "                                              Poland  1995\n",
      "                                            Portugal  1995\n",
      "                                         Puerto Rico  1995\n",
      "                                               Qatar  1995\n",
      "                                   Republic of Korea  1995\n",
      "                                 Republic of Moldova  1995\n",
      "                                             Romania  1995\n",
      "                                          Seychelles  1995\n",
      "                                 Serbia & Montenegro  1995\n",
      "                                                Oman  1995\n",
      "                                         Switzerland  1995\n",
      "                                              Norway  1995\n",
      "                                        Sierra Leone  1995\n",
      "                    Micronesia (Federated States of)  1995\n",
      "                                             Somalia  1995\n",
      "                                     Solomon Islands  1995\n",
      "                                            Slovenia  1995\n",
      "                                             Morocco  1995\n",
      "                                          Mozambique  1995\n",
      "                                             Myanmar  1995\n",
      "                                             Namibia  1995\n",
      "                                            Slovakia  1995\n",
      "                                         Netherlands  1995\n",
      "                                       New Caledonia  1995\n",
      "                                         New Zealand  1995\n",
      "                                           Nicaragua  1995\n",
      "                                           Singapore  1995\n",
      "                                             Nigeria  1995\n",
      "                            Northern Mariana Islands  1995\n",
      "                                               Ghana  1995\n",
      "                                             Senegal  1995\n",
      "                                             Georgia  1995\n",
      "                         United Republic of Tanzania  1995\n",
      "                                             Ukraine  1995\n",
      "                                              Uganda  1995\n",
      "                                   US Virgin Islands  1995\n",
      "                                        Burkina Faso  1995\n",
      "                                             Burundi  1995\n",
      "                              Bosnia and Herzegovina  1995\n",
      "                                              Tuvalu  1995\n",
      "                                             Germany  1995\n",
      "                                        Turkmenistan  1995\n",
      "                            Central African Republic  1995\n",
      "                                 Trinidad and Tobago  1995\n",
      "                                               Chile  1995\n",
      "                                               China  1995\n",
      "                                            Cambodia  1995\n",
      "                                               Tonga  1995\n",
      "                            United States of America  1995\n",
      "                                             Uruguay  1995\n",
      "                                             Albania  1995\n",
      "                                               Yemen  1995\n",
      "                            West Bank and Gaza Strip  1995\n",
      "                                              Angola  1995\n",
      "                                             Armenia  1995\n",
      "                                             Vanuatu  1995\n",
      "                                              Bhutan  1995\n",
      "                                             Austria  1995\n",
      "                                             Bahamas  1995\n",
      "                                             Bahrain  1995\n",
      "                                          Bangladesh  1995\n",
      "                                             Belgium  1995\n",
      "                                              Belize  1995\n",
      "                                               Benin  1995\n",
      "                                          Azerbaijan  1995\n",
      "                                    China, Macao SAR  1995\n",
      "                                            Cameroon  1995\n",
      "                                                Togo  1995\n",
      "                                             Finland  1995\n",
      "                                Syrian Arab Republic  1995\n",
      "                                   Equatorial Guinea  1995\n",
      "                                               Egypt  1995\n",
      "                                              France  1995\n",
      "                                             Denmark  1995\n",
      "                    Democratic Republic of the Congo  1995\n",
      "                                            Thailand  1995\n",
      "                                      Czech Republic  1995\n",
      "                                            Ethiopia  1995\n",
      "                                               Gabon  1995\n",
      "           The Former Yugoslav Republic of Macedonia  1995\n",
      "                                                Cuba  1995\n",
      "                                              Gambia  1995\n",
      "                                             Comoros  1995\n",
      "                                               Congo  1995\n",
      "                                          Costa Rica  1995\n",
      "                                              Cyprus  1995\n",
      "                                       Cote d'Ivoire  1995\n",
      "                                             Croatia  1995\n",
      "                               Saint Kitts and Nevis  1996\n",
      "                                       Guinea-Bissau  1996\n",
      "                                            Viet Nam  1996\n",
      "                           Wallis and Futuna Islands  1996\n",
      "                                 Antigua and Barbuda  1996\n",
      "                                            Suriname  1996\n",
      "                                             Andorra  1996\n",
      "                                    French Polynesia  1996\n",
      "                                  Russian Federation  1996\n",
      "                                    Papua New Guinea  1996\n",
      "                                           Argentina  1996\n",
      "                                              Rwanda  1996\n",
      "                                         El Salvador  1996\n",
      "                                             Estonia  1996\n",
      "                                    Marshall Islands  1996\n",
      "                                              Mexico  1996\n",
      "                                            Kiribati  1996\n",
      "                                            Djibouti  1996\n",
      "                                            Dominica  1996\n",
      "                                              Israel  1996\n",
      "                                               Haiti  1996\n",
      "                                               Nepal  1996\n",
      "                                Netherlands Antilles  1996\n",
      "                    Bolivia (Plurinational State of)  1996\n",
      "                                          Tajikistan  1996\n",
      "                                          Luxembourg  1996\n",
      "                                          Uzbekistan  1996\n",
      "                                            Barbados  1996\n",
      "                                             Hungary  1996\n",
      "                                  Dominican Republic  1996\n",
      "                                             Liberia  1996\n",
      "United Kingdom of Great Britain and Northern Ireland  1997\n",
      "                                         Afghanistan  1997\n",
      "                                          Kazakhstan  1997\n",
      "                                          Mauritania  1997\n",
      "                                            Botswana  1997\n",
      "                                              Greece  1997\n",
      "                                             Eritrea  1997\n",
      "                                           Australia  1997\n",
      "                                             Grenada  1997\n",
      "               Democratic People's Republic of Korea  1997\n",
      "                                               Niger  1997\n",
      "                                         Saint Lucia  1997\n",
      "                                China, Hong Kong SAR  1997\n",
      "                                             Algeria  1997\n",
      "                                          San Marino  1997\n",
      "                                      American Samoa  1997\n",
      "                                          Cabo Verde  1997\n",
      "                                             Ecuador  1998\n",
      "                                      Cayman Islands  1998\n",
      "                                        Saudi Arabia  1998\n",
      "                    Saint Vincent and the Grenadines  1998\n",
      "                                             Ireland  1998\n",
      "                                             Tunisia  1998\n",
      "                                                Chad  1999\n",
      "                                   Brunei Darussalam  1999\n",
      "                                        South Africa  1999\n",
      "                                              Monaco  1999\n",
      "                  Venezuela (Bolivarian Republic of)  1999\n",
      "                                               Nauru  1999\n",
      "                                              Brazil  1999\n",
      "                                                Niue  1999\n",
      "                                            Colombia  1999\n",
      "                                United Arab Emirates  1999\n",
      "                                                Guam  2000\n",
      "                               Sao Tome and Principe  2000\n",
      "                              British Virgin Islands  2000\n",
      "                                            Bulgaria  2000\n",
      "                                             Belarus  2001\n",
      "                                         Timor-Leste  2002\n",
      "                            Turks and Caicos Islands  2002\n",
      "                                            Zimbabwe  2002\n",
      "                                          Montserrat  2003\n",
      "                                            Anguilla  2003\n",
      "                                              Turkey  2004\n",
      "                                             Bermuda  2004\n",
      "                                          Montenegro  2005\n",
      "                                              Serbia  2005\n",
      "                                             Tokelau  2007\n",
      "                                           Greenland  2009\n",
      "                                             Curacao  2010\n",
      "                   Bonaire, Saint Eustatius and Saba  2010\n",
      "                           Sint Maarten (Dutch part)  2010\n",
      "                                         South Sudan  2011\n",
      "                                               Aruba  2011\n"
     ]
    }
   ],
   "source": [
    "import pandas as pd\n",
    "import matplotlib.pyplot as plt\n",
    "\n",
    "# Find the first reporting year for each country\n",
    "first_reporting_year = df_cleaned.groupby('country')['year'].min().reset_index()\n",
    "\n",
    "# Sort by the first reporting year\n",
    "first_reporting_year = first_reporting_year.sort_values(by='year')\n",
    "\n",
    "# Display the full sorted list of countries and their first reporting year\n",
    "print(first_reporting_year[['country', 'year']].to_string(index=False))"
   ]
  },
  {
   "cell_type": "code",
   "execution_count": 84,
   "metadata": {},
   "outputs": [
    {
     "data": {
      "application/vnd.plotly.v1+json": {
       "config": {
        "plotlyServerURL": "https://plot.ly"
       },
       "data": [
        {
         "hovertemplate": "Year of First TB Case Reported=%{x}<br>Countries=%{y}<br>country=%{text}<extra></extra>",
         "legendgroup": "",
         "marker": {
          "color": "#636efa",
          "symbol": "circle"
         },
         "mode": "markers+text",
         "name": "",
         "orientation": "v",
         "showlegend": false,
         "text": [
          "Canada",
          "Cook Islands",
          "Mongolia",
          "Fiji",
          "Kyrgyzstan",
          "Lao People's Democratic Republic",
          "Latvia",
          "Lebanon",
          "Lesotho",
          "Zambia",
          "Libya",
          "Lithuania",
          "Madagascar",
          "Malawi",
          "Malaysia",
          "Maldives",
          "Mali",
          "Kuwait",
          "Kenya",
          "Sri Lanka",
          "Jordan",
          "Sweden",
          "Swaziland",
          "Samoa",
          "Guinea",
          "Guyana",
          "Honduras",
          "Iceland",
          "India",
          "Indonesia",
          "Iran (Islamic Republic of)",
          "Iraq",
          "Sudan",
          "Italy",
          "Jamaica",
          "Japan",
          "Malta",
          "Spain",
          "Guatemala",
          "Mauritius",
          "Pakistan",
          "Palau",
          "Panama",
          "Paraguay",
          "Peru",
          "Philippines",
          "Poland",
          "Portugal",
          "Puerto Rico",
          "Qatar",
          "Republic of Korea",
          "Republic of Moldova",
          "Romania",
          "Seychelles",
          "Serbia & Montenegro",
          "Oman",
          "Switzerland",
          "Norway",
          "Sierra Leone",
          "Micronesia (Federated States of)",
          "Somalia",
          "Solomon Islands",
          "Slovenia",
          "Morocco",
          "Mozambique",
          "Myanmar",
          "Namibia",
          "Slovakia",
          "Netherlands",
          "New Caledonia",
          "New Zealand",
          "Nicaragua",
          "Singapore",
          "Nigeria",
          "Northern Mariana Islands",
          "Ghana",
          "Senegal",
          "Georgia",
          "United Republic of Tanzania",
          "Ukraine",
          "Uganda",
          "US Virgin Islands",
          "Burkina Faso",
          "Burundi",
          "Bosnia and Herzegovina",
          "Tuvalu",
          "Germany",
          "Turkmenistan",
          "Central African Republic",
          "Trinidad and Tobago",
          "Chile",
          "China",
          "Cambodia",
          "Tonga",
          "United States of America",
          "Uruguay",
          "Albania",
          "Yemen",
          "West Bank and Gaza Strip",
          "Angola",
          "Armenia",
          "Vanuatu",
          "Bhutan",
          "Austria",
          "Bahamas",
          "Bahrain",
          "Bangladesh",
          "Belgium",
          "Belize",
          "Benin",
          "Azerbaijan",
          "China, Macao SAR",
          "Cameroon",
          "Togo",
          "Finland",
          "Syrian Arab Republic",
          "Equatorial Guinea",
          "Egypt",
          "France",
          "Denmark",
          "Democratic Republic of the Congo",
          "Thailand",
          "Czech Republic",
          "Ethiopia",
          "Gabon",
          "The Former Yugoslav Republic of Macedonia",
          "Cuba",
          "Gambia",
          "Comoros",
          "Congo",
          "Costa Rica",
          "Cyprus",
          "Cote d'Ivoire",
          "Croatia",
          "Saint Kitts and Nevis",
          "Guinea-Bissau",
          "Viet Nam",
          "Wallis and Futuna Islands",
          "Antigua and Barbuda",
          "Suriname",
          "Andorra",
          "French Polynesia",
          "Russian Federation",
          "Papua New Guinea",
          "Argentina",
          "Rwanda",
          "El Salvador",
          "Estonia",
          "Marshall Islands",
          "Mexico",
          "Kiribati",
          "Djibouti",
          "Dominica",
          "Israel",
          "Haiti",
          "Nepal",
          "Netherlands Antilles",
          "Bolivia (Plurinational State of)",
          "Tajikistan",
          "Luxembourg",
          "Uzbekistan",
          "Barbados",
          "Hungary",
          "Dominican Republic",
          "Liberia",
          "United Kingdom of Great Britain and Northern Ireland",
          "Afghanistan",
          "Kazakhstan",
          "Mauritania",
          "Botswana",
          "Greece",
          "Eritrea",
          "Australia",
          "Grenada",
          "Democratic People's Republic of Korea",
          "Niger",
          "Saint Lucia",
          "China, Hong Kong SAR",
          "Algeria",
          "San Marino",
          "American Samoa",
          "Cabo Verde",
          "Ecuador",
          "Cayman Islands",
          "Saudi Arabia",
          "Saint Vincent and the Grenadines",
          "Ireland",
          "Tunisia",
          "Chad",
          "Brunei Darussalam",
          "South Africa",
          "Monaco",
          "Venezuela (Bolivarian Republic of)",
          "Nauru",
          "Brazil",
          "Niue",
          "Colombia",
          "United Arab Emirates",
          "Guam",
          "Sao Tome and Principe",
          "British Virgin Islands",
          "Bulgaria",
          "Belarus",
          "Timor-Leste",
          "Turks and Caicos Islands",
          "Zimbabwe",
          "Montserrat",
          "Anguilla",
          "Turkey",
          "Bermuda",
          "Montenegro",
          "Serbia",
          "Tokelau",
          "Greenland",
          "Curacao",
          "Bonaire, Saint Eustatius and Saba",
          "Sint Maarten (Dutch part)",
          "South Sudan",
          "Aruba"
         ],
         "type": "scatter",
         "x": [
          1980,
          1980,
          1994,
          1994,
          1995,
          1995,
          1995,
          1995,
          1995,
          1995,
          1995,
          1995,
          1995,
          1995,
          1995,
          1995,
          1995,
          1995,
          1995,
          1995,
          1995,
          1995,
          1995,
          1995,
          1995,
          1995,
          1995,
          1995,
          1995,
          1995,
          1995,
          1995,
          1995,
          1995,
          1995,
          1995,
          1995,
          1995,
          1995,
          1995,
          1995,
          1995,
          1995,
          1995,
          1995,
          1995,
          1995,
          1995,
          1995,
          1995,
          1995,
          1995,
          1995,
          1995,
          1995,
          1995,
          1995,
          1995,
          1995,
          1995,
          1995,
          1995,
          1995,
          1995,
          1995,
          1995,
          1995,
          1995,
          1995,
          1995,
          1995,
          1995,
          1995,
          1995,
          1995,
          1995,
          1995,
          1995,
          1995,
          1995,
          1995,
          1995,
          1995,
          1995,
          1995,
          1995,
          1995,
          1995,
          1995,
          1995,
          1995,
          1995,
          1995,
          1995,
          1995,
          1995,
          1995,
          1995,
          1995,
          1995,
          1995,
          1995,
          1995,
          1995,
          1995,
          1995,
          1995,
          1995,
          1995,
          1995,
          1995,
          1995,
          1995,
          1995,
          1995,
          1995,
          1995,
          1995,
          1995,
          1995,
          1995,
          1995,
          1995,
          1995,
          1995,
          1995,
          1995,
          1995,
          1995,
          1995,
          1995,
          1995,
          1995,
          1995,
          1996,
          1996,
          1996,
          1996,
          1996,
          1996,
          1996,
          1996,
          1996,
          1996,
          1996,
          1996,
          1996,
          1996,
          1996,
          1996,
          1996,
          1996,
          1996,
          1996,
          1996,
          1996,
          1996,
          1996,
          1996,
          1996,
          1996,
          1996,
          1996,
          1996,
          1996,
          1997,
          1997,
          1997,
          1997,
          1997,
          1997,
          1997,
          1997,
          1997,
          1997,
          1997,
          1997,
          1997,
          1997,
          1997,
          1997,
          1997,
          1998,
          1998,
          1998,
          1998,
          1998,
          1998,
          1999,
          1999,
          1999,
          1999,
          1999,
          1999,
          1999,
          1999,
          1999,
          1999,
          2000,
          2000,
          2000,
          2000,
          2001,
          2002,
          2002,
          2002,
          2003,
          2003,
          2004,
          2004,
          2005,
          2005,
          2007,
          2009,
          2010,
          2010,
          2010,
          2011,
          2011
         ],
         "xaxis": "x",
         "y": [
          37,
          48,
          125,
          69,
          104,
          105,
          106,
          107,
          108,
          217,
          110,
          111,
          113,
          114,
          115,
          116,
          117,
          103,
          101,
          182,
          99,
          186,
          185,
          164,
          83,
          85,
          87,
          89,
          90,
          91,
          92,
          93,
          183,
          96,
          97,
          98,
          118,
          181,
          82,
          121,
          145,
          146,
          147,
          149,
          150,
          151,
          152,
          153,
          154,
          155,
          156,
          157,
          158,
          171,
          170,
          144,
          187,
          143,
          172,
          123,
          178,
          177,
          176,
          128,
          129,
          130,
          131,
          175,
          134,
          136,
          137,
          138,
          173,
          140,
          142,
          77,
          168,
          75,
          207,
          204,
          203,
          202,
          32,
          33,
          26,
          201,
          76,
          199,
          39,
          196,
          41,
          42,
          35,
          195,
          208,
          209,
          1,
          216,
          215,
          5,
          9,
          211,
          23,
          12,
          14,
          15,
          16,
          19,
          20,
          21,
          13,
          44,
          36,
          193,
          70,
          188,
          65,
          63,
          71,
          58,
          57,
          190,
          55,
          68,
          73,
          191,
          52,
          74,
          46,
          47,
          49,
          54,
          50,
          51,
          161,
          84,
          213,
          214,
          7,
          184,
          4,
          72,
          159,
          148,
          8,
          160,
          64,
          67,
          119,
          122,
          102,
          59,
          60,
          95,
          86,
          133,
          135,
          24,
          189,
          112,
          210,
          17,
          88,
          61,
          109,
          206,
          0,
          100,
          120,
          27,
          78,
          66,
          11,
          80,
          56,
          139,
          162,
          43,
          2,
          165,
          3,
          34,
          62,
          38,
          167,
          163,
          94,
          197,
          40,
          30,
          179,
          124,
          212,
          132,
          28,
          141,
          45,
          205,
          81,
          166,
          29,
          31,
          18,
          192,
          200,
          218,
          127,
          6,
          198,
          22,
          126,
          169,
          194,
          79,
          53,
          25,
          174,
          180,
          10
         ],
         "yaxis": "y"
        }
       ],
       "layout": {
        "height": 3000,
        "legend": {
         "tracegroupgap": 0
        },
        "template": {
         "data": {
          "bar": [
           {
            "error_x": {
             "color": "#2a3f5f"
            },
            "error_y": {
             "color": "#2a3f5f"
            },
            "marker": {
             "line": {
              "color": "#E5ECF6",
              "width": 0.5
             },
             "pattern": {
              "fillmode": "overlay",
              "size": 10,
              "solidity": 0.2
             }
            },
            "type": "bar"
           }
          ],
          "barpolar": [
           {
            "marker": {
             "line": {
              "color": "#E5ECF6",
              "width": 0.5
             },
             "pattern": {
              "fillmode": "overlay",
              "size": 10,
              "solidity": 0.2
             }
            },
            "type": "barpolar"
           }
          ],
          "carpet": [
           {
            "aaxis": {
             "endlinecolor": "#2a3f5f",
             "gridcolor": "white",
             "linecolor": "white",
             "minorgridcolor": "white",
             "startlinecolor": "#2a3f5f"
            },
            "baxis": {
             "endlinecolor": "#2a3f5f",
             "gridcolor": "white",
             "linecolor": "white",
             "minorgridcolor": "white",
             "startlinecolor": "#2a3f5f"
            },
            "type": "carpet"
           }
          ],
          "choropleth": [
           {
            "colorbar": {
             "outlinewidth": 0,
             "ticks": ""
            },
            "type": "choropleth"
           }
          ],
          "contour": [
           {
            "colorbar": {
             "outlinewidth": 0,
             "ticks": ""
            },
            "colorscale": [
             [
              0,
              "#0d0887"
             ],
             [
              0.1111111111111111,
              "#46039f"
             ],
             [
              0.2222222222222222,
              "#7201a8"
             ],
             [
              0.3333333333333333,
              "#9c179e"
             ],
             [
              0.4444444444444444,
              "#bd3786"
             ],
             [
              0.5555555555555556,
              "#d8576b"
             ],
             [
              0.6666666666666666,
              "#ed7953"
             ],
             [
              0.7777777777777778,
              "#fb9f3a"
             ],
             [
              0.8888888888888888,
              "#fdca26"
             ],
             [
              1,
              "#f0f921"
             ]
            ],
            "type": "contour"
           }
          ],
          "contourcarpet": [
           {
            "colorbar": {
             "outlinewidth": 0,
             "ticks": ""
            },
            "type": "contourcarpet"
           }
          ],
          "heatmap": [
           {
            "colorbar": {
             "outlinewidth": 0,
             "ticks": ""
            },
            "colorscale": [
             [
              0,
              "#0d0887"
             ],
             [
              0.1111111111111111,
              "#46039f"
             ],
             [
              0.2222222222222222,
              "#7201a8"
             ],
             [
              0.3333333333333333,
              "#9c179e"
             ],
             [
              0.4444444444444444,
              "#bd3786"
             ],
             [
              0.5555555555555556,
              "#d8576b"
             ],
             [
              0.6666666666666666,
              "#ed7953"
             ],
             [
              0.7777777777777778,
              "#fb9f3a"
             ],
             [
              0.8888888888888888,
              "#fdca26"
             ],
             [
              1,
              "#f0f921"
             ]
            ],
            "type": "heatmap"
           }
          ],
          "heatmapgl": [
           {
            "colorbar": {
             "outlinewidth": 0,
             "ticks": ""
            },
            "colorscale": [
             [
              0,
              "#0d0887"
             ],
             [
              0.1111111111111111,
              "#46039f"
             ],
             [
              0.2222222222222222,
              "#7201a8"
             ],
             [
              0.3333333333333333,
              "#9c179e"
             ],
             [
              0.4444444444444444,
              "#bd3786"
             ],
             [
              0.5555555555555556,
              "#d8576b"
             ],
             [
              0.6666666666666666,
              "#ed7953"
             ],
             [
              0.7777777777777778,
              "#fb9f3a"
             ],
             [
              0.8888888888888888,
              "#fdca26"
             ],
             [
              1,
              "#f0f921"
             ]
            ],
            "type": "heatmapgl"
           }
          ],
          "histogram": [
           {
            "marker": {
             "pattern": {
              "fillmode": "overlay",
              "size": 10,
              "solidity": 0.2
             }
            },
            "type": "histogram"
           }
          ],
          "histogram2d": [
           {
            "colorbar": {
             "outlinewidth": 0,
             "ticks": ""
            },
            "colorscale": [
             [
              0,
              "#0d0887"
             ],
             [
              0.1111111111111111,
              "#46039f"
             ],
             [
              0.2222222222222222,
              "#7201a8"
             ],
             [
              0.3333333333333333,
              "#9c179e"
             ],
             [
              0.4444444444444444,
              "#bd3786"
             ],
             [
              0.5555555555555556,
              "#d8576b"
             ],
             [
              0.6666666666666666,
              "#ed7953"
             ],
             [
              0.7777777777777778,
              "#fb9f3a"
             ],
             [
              0.8888888888888888,
              "#fdca26"
             ],
             [
              1,
              "#f0f921"
             ]
            ],
            "type": "histogram2d"
           }
          ],
          "histogram2dcontour": [
           {
            "colorbar": {
             "outlinewidth": 0,
             "ticks": ""
            },
            "colorscale": [
             [
              0,
              "#0d0887"
             ],
             [
              0.1111111111111111,
              "#46039f"
             ],
             [
              0.2222222222222222,
              "#7201a8"
             ],
             [
              0.3333333333333333,
              "#9c179e"
             ],
             [
              0.4444444444444444,
              "#bd3786"
             ],
             [
              0.5555555555555556,
              "#d8576b"
             ],
             [
              0.6666666666666666,
              "#ed7953"
             ],
             [
              0.7777777777777778,
              "#fb9f3a"
             ],
             [
              0.8888888888888888,
              "#fdca26"
             ],
             [
              1,
              "#f0f921"
             ]
            ],
            "type": "histogram2dcontour"
           }
          ],
          "mesh3d": [
           {
            "colorbar": {
             "outlinewidth": 0,
             "ticks": ""
            },
            "type": "mesh3d"
           }
          ],
          "parcoords": [
           {
            "line": {
             "colorbar": {
              "outlinewidth": 0,
              "ticks": ""
             }
            },
            "type": "parcoords"
           }
          ],
          "pie": [
           {
            "automargin": true,
            "type": "pie"
           }
          ],
          "scatter": [
           {
            "fillpattern": {
             "fillmode": "overlay",
             "size": 10,
             "solidity": 0.2
            },
            "type": "scatter"
           }
          ],
          "scatter3d": [
           {
            "line": {
             "colorbar": {
              "outlinewidth": 0,
              "ticks": ""
             }
            },
            "marker": {
             "colorbar": {
              "outlinewidth": 0,
              "ticks": ""
             }
            },
            "type": "scatter3d"
           }
          ],
          "scattercarpet": [
           {
            "marker": {
             "colorbar": {
              "outlinewidth": 0,
              "ticks": ""
             }
            },
            "type": "scattercarpet"
           }
          ],
          "scattergeo": [
           {
            "marker": {
             "colorbar": {
              "outlinewidth": 0,
              "ticks": ""
             }
            },
            "type": "scattergeo"
           }
          ],
          "scattergl": [
           {
            "marker": {
             "colorbar": {
              "outlinewidth": 0,
              "ticks": ""
             }
            },
            "type": "scattergl"
           }
          ],
          "scattermapbox": [
           {
            "marker": {
             "colorbar": {
              "outlinewidth": 0,
              "ticks": ""
             }
            },
            "type": "scattermapbox"
           }
          ],
          "scatterpolar": [
           {
            "marker": {
             "colorbar": {
              "outlinewidth": 0,
              "ticks": ""
             }
            },
            "type": "scatterpolar"
           }
          ],
          "scatterpolargl": [
           {
            "marker": {
             "colorbar": {
              "outlinewidth": 0,
              "ticks": ""
             }
            },
            "type": "scatterpolargl"
           }
          ],
          "scatterternary": [
           {
            "marker": {
             "colorbar": {
              "outlinewidth": 0,
              "ticks": ""
             }
            },
            "type": "scatterternary"
           }
          ],
          "surface": [
           {
            "colorbar": {
             "outlinewidth": 0,
             "ticks": ""
            },
            "colorscale": [
             [
              0,
              "#0d0887"
             ],
             [
              0.1111111111111111,
              "#46039f"
             ],
             [
              0.2222222222222222,
              "#7201a8"
             ],
             [
              0.3333333333333333,
              "#9c179e"
             ],
             [
              0.4444444444444444,
              "#bd3786"
             ],
             [
              0.5555555555555556,
              "#d8576b"
             ],
             [
              0.6666666666666666,
              "#ed7953"
             ],
             [
              0.7777777777777778,
              "#fb9f3a"
             ],
             [
              0.8888888888888888,
              "#fdca26"
             ],
             [
              1,
              "#f0f921"
             ]
            ],
            "type": "surface"
           }
          ],
          "table": [
           {
            "cells": {
             "fill": {
              "color": "#EBF0F8"
             },
             "line": {
              "color": "white"
             }
            },
            "header": {
             "fill": {
              "color": "#C8D4E3"
             },
             "line": {
              "color": "white"
             }
            },
            "type": "table"
           }
          ]
         },
         "layout": {
          "annotationdefaults": {
           "arrowcolor": "#2a3f5f",
           "arrowhead": 0,
           "arrowwidth": 1
          },
          "autotypenumbers": "strict",
          "coloraxis": {
           "colorbar": {
            "outlinewidth": 0,
            "ticks": ""
           }
          },
          "colorscale": {
           "diverging": [
            [
             0,
             "#8e0152"
            ],
            [
             0.1,
             "#c51b7d"
            ],
            [
             0.2,
             "#de77ae"
            ],
            [
             0.3,
             "#f1b6da"
            ],
            [
             0.4,
             "#fde0ef"
            ],
            [
             0.5,
             "#f7f7f7"
            ],
            [
             0.6,
             "#e6f5d0"
            ],
            [
             0.7,
             "#b8e186"
            ],
            [
             0.8,
             "#7fbc41"
            ],
            [
             0.9,
             "#4d9221"
            ],
            [
             1,
             "#276419"
            ]
           ],
           "sequential": [
            [
             0,
             "#0d0887"
            ],
            [
             0.1111111111111111,
             "#46039f"
            ],
            [
             0.2222222222222222,
             "#7201a8"
            ],
            [
             0.3333333333333333,
             "#9c179e"
            ],
            [
             0.4444444444444444,
             "#bd3786"
            ],
            [
             0.5555555555555556,
             "#d8576b"
            ],
            [
             0.6666666666666666,
             "#ed7953"
            ],
            [
             0.7777777777777778,
             "#fb9f3a"
            ],
            [
             0.8888888888888888,
             "#fdca26"
            ],
            [
             1,
             "#f0f921"
            ]
           ],
           "sequentialminus": [
            [
             0,
             "#0d0887"
            ],
            [
             0.1111111111111111,
             "#46039f"
            ],
            [
             0.2222222222222222,
             "#7201a8"
            ],
            [
             0.3333333333333333,
             "#9c179e"
            ],
            [
             0.4444444444444444,
             "#bd3786"
            ],
            [
             0.5555555555555556,
             "#d8576b"
            ],
            [
             0.6666666666666666,
             "#ed7953"
            ],
            [
             0.7777777777777778,
             "#fb9f3a"
            ],
            [
             0.8888888888888888,
             "#fdca26"
            ],
            [
             1,
             "#f0f921"
            ]
           ]
          },
          "colorway": [
           "#636efa",
           "#EF553B",
           "#00cc96",
           "#ab63fa",
           "#FFA15A",
           "#19d3f3",
           "#FF6692",
           "#B6E880",
           "#FF97FF",
           "#FECB52"
          ],
          "font": {
           "color": "#2a3f5f"
          },
          "geo": {
           "bgcolor": "white",
           "lakecolor": "white",
           "landcolor": "#E5ECF6",
           "showlakes": true,
           "showland": true,
           "subunitcolor": "white"
          },
          "hoverlabel": {
           "align": "left"
          },
          "hovermode": "closest",
          "mapbox": {
           "style": "light"
          },
          "paper_bgcolor": "white",
          "plot_bgcolor": "#E5ECF6",
          "polar": {
           "angularaxis": {
            "gridcolor": "white",
            "linecolor": "white",
            "ticks": ""
           },
           "bgcolor": "#E5ECF6",
           "radialaxis": {
            "gridcolor": "white",
            "linecolor": "white",
            "ticks": ""
           }
          },
          "scene": {
           "xaxis": {
            "backgroundcolor": "#E5ECF6",
            "gridcolor": "white",
            "gridwidth": 2,
            "linecolor": "white",
            "showbackground": true,
            "ticks": "",
            "zerolinecolor": "white"
           },
           "yaxis": {
            "backgroundcolor": "#E5ECF6",
            "gridcolor": "white",
            "gridwidth": 2,
            "linecolor": "white",
            "showbackground": true,
            "ticks": "",
            "zerolinecolor": "white"
           },
           "zaxis": {
            "backgroundcolor": "#E5ECF6",
            "gridcolor": "white",
            "gridwidth": 2,
            "linecolor": "white",
            "showbackground": true,
            "ticks": "",
            "zerolinecolor": "white"
           }
          },
          "shapedefaults": {
           "line": {
            "color": "#2a3f5f"
           }
          },
          "ternary": {
           "aaxis": {
            "gridcolor": "white",
            "linecolor": "white",
            "ticks": ""
           },
           "baxis": {
            "gridcolor": "white",
            "linecolor": "white",
            "ticks": ""
           },
           "bgcolor": "#E5ECF6",
           "caxis": {
            "gridcolor": "white",
            "linecolor": "white",
            "ticks": ""
           }
          },
          "title": {
           "x": 0.05
          },
          "xaxis": {
           "automargin": true,
           "gridcolor": "white",
           "linecolor": "white",
           "ticks": "",
           "title": {
            "standoff": 15
           },
           "zerolinecolor": "white",
           "zerolinewidth": 2
          },
          "yaxis": {
           "automargin": true,
           "gridcolor": "white",
           "linecolor": "white",
           "ticks": "",
           "title": {
            "standoff": 15
           },
           "zerolinecolor": "white",
           "zerolinewidth": 2
          }
         }
        },
        "title": {
         "text": "Timeline of First TB Case Reports by Country"
        },
        "width": 1000,
        "xaxis": {
         "anchor": "y",
         "autorange": true,
         "domain": [
          0,
          1
         ],
         "range": [
          1978.1052104208418,
          2012.8947895791582
         ],
         "title": {
          "text": "Year of First TB Case Reported"
         },
         "type": "linear"
        },
        "yaxis": {
         "anchor": "x",
         "autorange": true,
         "domain": [
          0,
          1
         ],
         "range": [
          -12.470065204505039,
          230.47006520450503
         ],
         "title": {
          "text": "Countries"
         },
         "type": "linear"
        }
       }
      },
      "image/png": "[encoded data removed]",
      "text/html": [
       "<div>                            <div id=\"b2480573-75b5-45ef-808d-21b9ed75ab97\" class=\"plotly-graph-div\" style=\"height:3000px; width:1000px;\"></div>            <script type=\"text/javascript\">                require([\"plotly\"], function(Plotly) {                    window.PLOTLYENV=window.PLOTLYENV || {};                                    if (document.getElementById(\"b2480573-75b5-45ef-808d-21b9ed75ab97\")) {                    Plotly.newPlot(                        \"b2480573-75b5-45ef-808d-21b9ed75ab97\",                        [{\"hovertemplate\":\"Year of First TB Case Reported=%{x}\\u003cbr\\u003eCountries=%{y}\\u003cbr\\u003ecountry=%{text}\\u003cextra\\u003e\\u003c\\u002fextra\\u003e\",\"legendgroup\":\"\",\"marker\":{\"color\":\"#636efa\",\"symbol\":\"circle\"},\"mode\":\"markers+text\",\"name\":\"\",\"orientation\":\"v\",\"showlegend\":false,\"text\":[\"Canada\",\"Cook Islands\",\"Mongolia\",\"Fiji\",\"Kyrgyzstan\",\"Lao People's Democratic Republic\",\"Latvia\",\"Lebanon\",\"Lesotho\",\"Zambia\",\"Libya\",\"Lithuania\",\"Madagascar\",\"Malawi\",\"Malaysia\",\"Maldives\",\"Mali\",\"Kuwait\",\"Kenya\",\"Sri Lanka\",\"Jordan\",\"Sweden\",\"Swaziland\",\"Samoa\",\"Guinea\",\"Guyana\",\"Honduras\",\"Iceland\",\"India\",\"Indonesia\",\"Iran (Islamic Republic of)\",\"Iraq\",\"Sudan\",\"Italy\",\"Jamaica\",\"Japan\",\"Malta\",\"Spain\",\"Guatemala\",\"Mauritius\",\"Pakistan\",\"Palau\",\"Panama\",\"Paraguay\",\"Peru\",\"Philippines\",\"Poland\",\"Portugal\",\"Puerto Rico\",\"Qatar\",\"Republic of Korea\",\"Republic of Moldova\",\"Romania\",\"Seychelles\",\"Serbia & Montenegro\",\"Oman\",\"Switzerland\",\"Norway\",\"Sierra Leone\",\"Micronesia (Federated States of)\",\"Somalia\",\"Solomon Islands\",\"Slovenia\",\"Morocco\",\"Mozambique\",\"Myanmar\",\"Namibia\",\"Slovakia\",\"Netherlands\",\"New Caledonia\",\"New Zealand\",\"Nicaragua\",\"Singapore\",\"Nigeria\",\"Northern Mariana Islands\",\"Ghana\",\"Senegal\",\"Georgia\",\"United Republic of Tanzania\",\"Ukraine\",\"Uganda\",\"US Virgin Islands\",\"Burkina Faso\",\"Burundi\",\"Bosnia and Herzegovina\",\"Tuvalu\",\"Germany\",\"Turkmenistan\",\"Central African Republic\",\"Trinidad and Tobago\",\"Chile\",\"China\",\"Cambodia\",\"Tonga\",\"United States of America\",\"Uruguay\",\"Albania\",\"Yemen\",\"West Bank and Gaza Strip\",\"Angola\",\"Armenia\",\"Vanuatu\",\"Bhutan\",\"Austria\",\"Bahamas\",\"Bahrain\",\"Bangladesh\",\"Belgium\",\"Belize\",\"Benin\",\"Azerbaijan\",\"China, Macao SAR\",\"Cameroon\",\"Togo\",\"Finland\",\"Syrian Arab Republic\",\"Equatorial Guinea\",\"Egypt\",\"France\",\"Denmark\",\"Democratic Republic of the Congo\",\"Thailand\",\"Czech Republic\",\"Ethiopia\",\"Gabon\",\"The Former Yugoslav Republic of Macedonia\",\"Cuba\",\"Gambia\",\"Comoros\",\"Congo\",\"Costa Rica\",\"Cyprus\",\"Cote d'Ivoire\",\"Croatia\",\"Saint Kitts and Nevis\",\"Guinea-Bissau\",\"Viet Nam\",\"Wallis and Futuna Islands\",\"Antigua and Barbuda\",\"Suriname\",\"Andorra\",\"French Polynesia\",\"Russian Federation\",\"Papua New Guinea\",\"Argentina\",\"Rwanda\",\"El Salvador\",\"Estonia\",\"Marshall Islands\",\"Mexico\",\"Kiribati\",\"Djibouti\",\"Dominica\",\"Israel\",\"Haiti\",\"Nepal\",\"Netherlands Antilles\",\"Bolivia (Plurinational State of)\",\"Tajikistan\",\"Luxembourg\",\"Uzbekistan\",\"Barbados\",\"Hungary\",\"Dominican Republic\",\"Liberia\",\"United Kingdom of Great Britain and Northern Ireland\",\"Afghanistan\",\"Kazakhstan\",\"Mauritania\",\"Botswana\",\"Greece\",\"Eritrea\",\"Australia\",\"Grenada\",\"Democratic People's Republic of Korea\",\"Niger\",\"Saint Lucia\",\"China, Hong Kong SAR\",\"Algeria\",\"San Marino\",\"American Samoa\",\"Cabo Verde\",\"Ecuador\",\"Cayman Islands\",\"Saudi Arabia\",\"Saint Vincent and the Grenadines\",\"Ireland\",\"Tunisia\",\"Chad\",\"Brunei Darussalam\",\"South Africa\",\"Monaco\",\"Venezuela (Bolivarian Republic of)\",\"Nauru\",\"Brazil\",\"Niue\",\"Colombia\",\"United Arab Emirates\",\"Guam\",\"Sao Tome and Principe\",\"British Virgin Islands\",\"Bulgaria\",\"Belarus\",\"Timor-Leste\",\"Turks and Caicos Islands\",\"Zimbabwe\",\"Montserrat\",\"Anguilla\",\"Turkey\",\"Bermuda\",\"Montenegro\",\"Serbia\",\"Tokelau\",\"Greenland\",\"Curacao\",\"Bonaire, Saint Eustatius and Saba\",\"Sint Maarten (Dutch part)\",\"South Sudan\",\"Aruba\"],\"x\":[1980,1980,1994,1994,1995,1995,1995,1995,1995,1995,1995,1995,1995,1995,1995,1995,1995,1995,1995,1995,1995,1995,1995,1995,1995,1995,1995,1995,1995,1995,1995,1995,1995,1995,1995,1995,1995,1995,1995,1995,1995,1995,1995,1995,1995,1995,1995,1995,1995,1995,1995,1995,1995,1995,1995,1995,1995,1995,1995,1995,1995,1995,1995,1995,1995,1995,1995,1995,1995,1995,1995,1995,1995,1995,1995,1995,1995,1995,1995,1995,1995,1995,1995,1995,1995,1995,1995,1995,1995,1995,1995,1995,1995,1995,1995,1995,1995,1995,1995,1995,1995,1995,1995,1995,1995,1995,1995,1995,1995,1995,1995,1995,1995,1995,1995,1995,1995,1995,1995,1995,1995,1995,1995,1995,1995,1995,1995,1995,1995,1995,1995,1995,1995,1995,1996,1996,1996,1996,1996,1996,1996,1996,1996,1996,1996,1996,1996,1996,1996,1996,1996,1996,1996,1996,1996,1996,1996,1996,1996,1996,1996,1996,1996,1996,1996,1997,1997,1997,1997,1997,1997,1997,1997,1997,1997,1997,1997,1997,1997,1997,1997,1997,1998,1998,1998,1998,1998,1998,1999,1999,1999,1999,1999,1999,1999,1999,1999,1999,2000,2000,2000,2000,2001,2002,2002,2002,2003,2003,2004,2004,2005,2005,2007,2009,2010,2010,2010,2011,2011],\"xaxis\":\"x\",\"y\":[37,48,125,69,104,105,106,107,108,217,110,111,113,114,115,116,117,103,101,182,99,186,185,164,83,85,87,89,90,91,92,93,183,96,97,98,118,181,82,121,145,146,147,149,150,151,152,153,154,155,156,157,158,171,170,144,187,143,172,123,178,177,176,128,129,130,131,175,134,136,137,138,173,140,142,77,168,75,207,204,203,202,32,33,26,201,76,199,39,196,41,42,35,195,208,209,1,216,215,5,9,211,23,12,14,15,16,19,20,21,13,44,36,193,70,188,65,63,71,58,57,190,55,68,73,191,52,74,46,47,49,54,50,51,161,84,213,214,7,184,4,72,159,148,8,160,64,67,119,122,102,59,60,95,86,133,135,24,189,112,210,17,88,61,109,206,0,100,120,27,78,66,11,80,56,139,162,43,2,165,3,34,62,38,167,163,94,197,40,30,179,124,212,132,28,141,45,205,81,166,29,31,18,192,200,218,127,6,198,22,126,169,194,79,53,25,174,180,10],\"yaxis\":\"y\",\"type\":\"scatter\"}],                        {\"template\":{\"data\":{\"histogram2dcontour\":[{\"type\":\"histogram2dcontour\",\"colorbar\":{\"outlinewidth\":0,\"ticks\":\"\"},\"colorscale\":[[0.0,\"#0d0887\"],[0.1111111111111111,\"#46039f\"],[0.2222222222222222,\"#7201a8\"],[0.3333333333333333,\"#9c179e\"],[0.4444444444444444,\"#bd3786\"],[0.5555555555555556,\"#d8576b\"],[0.6666666666666666,\"#ed7953\"],[0.7777777777777778,\"#fb9f3a\"],[0.8888888888888888,\"#fdca26\"],[1.0,\"#f0f921\"]]}],\"choropleth\":[{\"type\":\"choropleth\",\"colorbar\":{\"outlinewidth\":0,\"ticks\":\"\"}}],\"histogram2d\":[{\"type\":\"histogram2d\",\"colorbar\":{\"outlinewidth\":0,\"ticks\":\"\"},\"colorscale\":[[0.0,\"#0d0887\"],[0.1111111111111111,\"#46039f\"],[0.2222222222222222,\"#7201a8\"],[0.3333333333333333,\"#9c179e\"],[0.4444444444444444,\"#bd3786\"],[0.5555555555555556,\"#d8576b\"],[0.6666666666666666,\"#ed7953\"],[0.7777777777777778,\"#fb9f3a\"],[0.8888888888888888,\"#fdca26\"],[1.0,\"#f0f921\"]]}],\"heatmap\":[{\"type\":\"heatmap\",\"colorbar\":{\"outlinewidth\":0,\"ticks\":\"\"},\"colorscale\":[[0.0,\"#0d0887\"],[0.1111111111111111,\"#46039f\"],[0.2222222222222222,\"#7201a8\"],[0.3333333333333333,\"#9c179e\"],[0.4444444444444444,\"#bd3786\"],[0.5555555555555556,\"#d8576b\"],[0.6666666666666666,\"#ed7953\"],[0.7777777777777778,\"#fb9f3a\"],[0.8888888888888888,\"#fdca26\"],[1.0,\"#f0f921\"]]}],\"heatmapgl\":[{\"type\":\"heatmapgl\",\"colorbar\":{\"outlinewidth\":0,\"ticks\":\"\"},\"colorscale\":[[0.0,\"#0d0887\"],[0.1111111111111111,\"#46039f\"],[0.2222222222222222,\"#7201a8\"],[0.3333333333333333,\"#9c179e\"],[0.4444444444444444,\"#bd3786\"],[0.5555555555555556,\"#d8576b\"],[0.6666666666666666,\"#ed7953\"],[0.7777777777777778,\"#fb9f3a\"],[0.8888888888888888,\"#fdca26\"],[1.0,\"#f0f921\"]]}],\"contourcarpet\":[{\"type\":\"contourcarpet\",\"colorbar\":{\"outlinewidth\":0,\"ticks\":\"\"}}],\"contour\":[{\"type\":\"contour\",\"colorbar\":{\"outlinewidth\":0,\"ticks\":\"\"},\"colorscale\":[[0.0,\"#0d0887\"],[0.1111111111111111,\"#46039f\"],[0.2222222222222222,\"#7201a8\"],[0.3333333333333333,\"#9c179e\"],[0.4444444444444444,\"#bd3786\"],[0.5555555555555556,\"#d8576b\"],[0.6666666666666666,\"#ed7953\"],[0.7777777777777778,\"#fb9f3a\"],[0.8888888888888888,\"#fdca26\"],[1.0,\"#f0f921\"]]}],\"surface\":[{\"type\":\"surface\",\"colorbar\":{\"outlinewidth\":0,\"ticks\":\"\"},\"colorscale\":[[0.0,\"#0d0887\"],[0.1111111111111111,\"#46039f\"],[0.2222222222222222,\"#7201a8\"],[0.3333333333333333,\"#9c179e\"],[0.4444444444444444,\"#bd3786\"],[0.5555555555555556,\"#d8576b\"],[0.6666666666666666,\"#ed7953\"],[0.7777777777777778,\"#fb9f3a\"],[0.8888888888888888,\"#fdca26\"],[1.0,\"#f0f921\"]]}],\"mesh3d\":[{\"type\":\"mesh3d\",\"colorbar\":{\"outlinewidth\":0,\"ticks\":\"\"}}],\"scatter\":[{\"fillpattern\":{\"fillmode\":\"overlay\",\"size\":10,\"solidity\":0.2},\"type\":\"scatter\"}],\"parcoords\":[{\"type\":\"parcoords\",\"line\":{\"colorbar\":{\"outlinewidth\":0,\"ticks\":\"\"}}}],\"scatterpolargl\":[{\"type\":\"scatterpolargl\",\"marker\":{\"colorbar\":{\"outlinewidth\":0,\"ticks\":\"\"}}}],\"bar\":[{\"error_x\":{\"color\":\"#2a3f5f\"},\"error_y\":{\"color\":\"#2a3f5f\"},\"marker\":{\"line\":{\"color\":\"#E5ECF6\",\"width\":0.5},\"pattern\":{\"fillmode\":\"overlay\",\"size\":10,\"solidity\":0.2}},\"type\":\"bar\"}],\"scattergeo\":[{\"type\":\"scattergeo\",\"marker\":{\"colorbar\":{\"outlinewidth\":0,\"ticks\":\"\"}}}],\"scatterpolar\":[{\"type\":\"scatterpolar\",\"marker\":{\"colorbar\":{\"outlinewidth\":0,\"ticks\":\"\"}}}],\"histogram\":[{\"marker\":{\"pattern\":{\"fillmode\":\"overlay\",\"size\":10,\"solidity\":0.2}},\"type\":\"histogram\"}],\"scattergl\":[{\"type\":\"scattergl\",\"marker\":{\"colorbar\":{\"outlinewidth\":0,\"ticks\":\"\"}}}],\"scatter3d\":[{\"type\":\"scatter3d\",\"line\":{\"colorbar\":{\"outlinewidth\":0,\"ticks\":\"\"}},\"marker\":{\"colorbar\":{\"outlinewidth\":0,\"ticks\":\"\"}}}],\"scattermapbox\":[{\"type\":\"scattermapbox\",\"marker\":{\"colorbar\":{\"outlinewidth\":0,\"ticks\":\"\"}}}],\"scatterternary\":[{\"type\":\"scatterternary\",\"marker\":{\"colorbar\":{\"outlinewidth\":0,\"ticks\":\"\"}}}],\"scattercarpet\":[{\"type\":\"scattercarpet\",\"marker\":{\"colorbar\":{\"outlinewidth\":0,\"ticks\":\"\"}}}],\"carpet\":[{\"aaxis\":{\"endlinecolor\":\"#2a3f5f\",\"gridcolor\":\"white\",\"linecolor\":\"white\",\"minorgridcolor\":\"white\",\"startlinecolor\":\"#2a3f5f\"},\"baxis\":{\"endlinecolor\":\"#2a3f5f\",\"gridcolor\":\"white\",\"linecolor\":\"white\",\"minorgridcolor\":\"white\",\"startlinecolor\":\"#2a3f5f\"},\"type\":\"carpet\"}],\"table\":[{\"cells\":{\"fill\":{\"color\":\"#EBF0F8\"},\"line\":{\"color\":\"white\"}},\"header\":{\"fill\":{\"color\":\"#C8D4E3\"},\"line\":{\"color\":\"white\"}},\"type\":\"table\"}],\"barpolar\":[{\"marker\":{\"line\":{\"color\":\"#E5ECF6\",\"width\":0.5},\"pattern\":{\"fillmode\":\"overlay\",\"size\":10,\"solidity\":0.2}},\"type\":\"barpolar\"}],\"pie\":[{\"automargin\":true,\"type\":\"pie\"}]},\"layout\":{\"autotypenumbers\":\"strict\",\"colorway\":[\"#636efa\",\"#EF553B\",\"#00cc96\",\"#ab63fa\",\"#FFA15A\",\"#19d3f3\",\"#FF6692\",\"#B6E880\",\"#FF97FF\",\"#FECB52\"],\"font\":{\"color\":\"#2a3f5f\"},\"hovermode\":\"closest\",\"hoverlabel\":{\"align\":\"left\"},\"paper_bgcolor\":\"white\",\"plot_bgcolor\":\"#E5ECF6\",\"polar\":{\"bgcolor\":\"#E5ECF6\",\"angularaxis\":{\"gridcolor\":\"white\",\"linecolor\":\"white\",\"ticks\":\"\"},\"radialaxis\":{\"gridcolor\":\"white\",\"linecolor\":\"white\",\"ticks\":\"\"}},\"ternary\":{\"bgcolor\":\"#E5ECF6\",\"aaxis\":{\"gridcolor\":\"white\",\"linecolor\":\"white\",\"ticks\":\"\"},\"baxis\":{\"gridcolor\":\"white\",\"linecolor\":\"white\",\"ticks\":\"\"},\"caxis\":{\"gridcolor\":\"white\",\"linecolor\":\"white\",\"ticks\":\"\"}},\"coloraxis\":{\"colorbar\":{\"outlinewidth\":0,\"ticks\":\"\"}},\"colorscale\":{\"sequential\":[[0.0,\"#0d0887\"],[0.1111111111111111,\"#46039f\"],[0.2222222222222222,\"#7201a8\"],[0.3333333333333333,\"#9c179e\"],[0.4444444444444444,\"#bd3786\"],[0.5555555555555556,\"#d8576b\"],[0.6666666666666666,\"#ed7953\"],[0.7777777777777778,\"#fb9f3a\"],[0.8888888888888888,\"#fdca26\"],[1.0,\"#f0f921\"]],\"sequentialminus\":[[0.0,\"#0d0887\"],[0.1111111111111111,\"#46039f\"],[0.2222222222222222,\"#7201a8\"],[0.3333333333333333,\"#9c179e\"],[0.4444444444444444,\"#bd3786\"],[0.5555555555555556,\"#d8576b\"],[0.6666666666666666,\"#ed7953\"],[0.7777777777777778,\"#fb9f3a\"],[0.8888888888888888,\"#fdca26\"],[1.0,\"#f0f921\"]],\"diverging\":[[0,\"#8e0152\"],[0.1,\"#c51b7d\"],[0.2,\"#de77ae\"],[0.3,\"#f1b6da\"],[0.4,\"#fde0ef\"],[0.5,\"#f7f7f7\"],[0.6,\"#e6f5d0\"],[0.7,\"#b8e186\"],[0.8,\"#7fbc41\"],[0.9,\"#4d9221\"],[1,\"#276419\"]]},\"xaxis\":{\"gridcolor\":\"white\",\"linecolor\":\"white\",\"ticks\":\"\",\"title\":{\"standoff\":15},\"zerolinecolor\":\"white\",\"automargin\":true,\"zerolinewidth\":2},\"yaxis\":{\"gridcolor\":\"white\",\"linecolor\":\"white\",\"ticks\":\"\",\"title\":{\"standoff\":15},\"zerolinecolor\":\"white\",\"automargin\":true,\"zerolinewidth\":2},\"scene\":{\"xaxis\":{\"backgroundcolor\":\"#E5ECF6\",\"gridcolor\":\"white\",\"linecolor\":\"white\",\"showbackground\":true,\"ticks\":\"\",\"zerolinecolor\":\"white\",\"gridwidth\":2},\"yaxis\":{\"backgroundcolor\":\"#E5ECF6\",\"gridcolor\":\"white\",\"linecolor\":\"white\",\"showbackground\":true,\"ticks\":\"\",\"zerolinecolor\":\"white\",\"gridwidth\":2},\"zaxis\":{\"backgroundcolor\":\"#E5ECF6\",\"gridcolor\":\"white\",\"linecolor\":\"white\",\"showbackground\":true,\"ticks\":\"\",\"zerolinecolor\":\"white\",\"gridwidth\":2}},\"shapedefaults\":{\"line\":{\"color\":\"#2a3f5f\"}},\"annotationdefaults\":{\"arrowcolor\":\"#2a3f5f\",\"arrowhead\":0,\"arrowwidth\":1},\"geo\":{\"bgcolor\":\"white\",\"landcolor\":\"#E5ECF6\",\"subunitcolor\":\"white\",\"showland\":true,\"showlakes\":true,\"lakecolor\":\"white\"},\"title\":{\"x\":0.05},\"mapbox\":{\"style\":\"light\"}}},\"xaxis\":{\"anchor\":\"y\",\"domain\":[0.0,1.0],\"title\":{\"text\":\"Year of First TB Case Reported\"}},\"yaxis\":{\"anchor\":\"x\",\"domain\":[0.0,1.0],\"title\":{\"text\":\"Countries\"}},\"legend\":{\"tracegroupgap\":0},\"title\":{\"text\":\"Timeline of First TB Case Reports by Country\"},\"width\":1000,\"height\":3000},                        {\"responsive\": true}                    ).then(function(){\n",
       "                            \n",
       "var gd = document.getElementById('b2480573-75b5-45ef-808d-21b9ed75ab97');\n",
       "var x = new MutationObserver(function (mutations, observer) {{\n",
       "        var display = window.getComputedStyle(gd).display;\n",
       "        if (!display || display === 'none') {{\n",
       "            console.log([gd, 'removed!']);\n",
       "            Plotly.purge(gd);\n",
       "            observer.disconnect();\n",
       "        }}\n",
       "}});\n",
       "\n",
       "// Listen for the removal of the full notebook cells\n",
       "var notebookContainer = gd.closest('#notebook-container');\n",
       "if (notebookContainer) {{\n",
       "    x.observe(notebookContainer, {childList: true});\n",
       "}}\n",
       "\n",
       "// Listen for the clearing of the current output cell\n",
       "var outputEl = gd.closest('.output');\n",
       "if (outputEl) {{\n",
       "    x.observe(outputEl, {childList: true});\n",
       "}}\n",
       "\n",
       "                        })                };                });            </script>        </div>"
      ]
     },
     "metadata": {},
     "output_type": "display_data"
    }
   ],
   "source": [
    "import plotly.express as px\n",
    "# Create a scatter plot with hover functionality\n",
    "fig = px.scatter(first_reporting_year, \n",
    "                 x='year', \n",
    "                 y=first_reporting_year.index, \n",
    "                 text='country',  # This will display the country names on hover\n",
    "                 labels={'year': 'Year of First TB Case Reported', 'index': 'Countries'},\n",
    "                 title=\"Timeline of First TB Case Reports by Country\")\n",
    "# Adjust the size of the plot to make it clear\n",
    "fig.update_layout(\n",
    "    width=1000,  \n",
    "    height=3000, \n",
    ")\n",
    "# Show the plot\n",
    "fig.show()"
   ]
  },
  {
   "cell_type": "code",
   "execution_count": null,
   "metadata": {},
   "outputs": [],
   "source": []
  }
 ],
 "metadata": {
  "kernelspec": {
   "display_name": "Python [conda env:base] *",
   "language": "python",
   "name": "conda-base-py"
  },
  "language_info": {
   "codemirror_mode": {
    "name": "ipython",
    "version": 3
   },
   "file_extension": ".py",
   "mimetype": "text/x-python",
   "name": "python",
   "nbconvert_exporter": "python",
   "pygments_lexer": "ipython3",
   "version": "3.12.7"
  },
  "toc": {
   "base_numbering": 1,
   "nav_menu": {},
   "number_sections": false,
   "sideBar": true,
   "skip_h1_title": false,
   "title_cell": "Table of Contents",
   "title_sidebar": "Contents",
   "toc_cell": false,
   "toc_position": {
    "height": "calc(100% - 180px)",
    "left": "10px",
    "top": "150px",
    "width": "165px"
   },
   "toc_section_display": true,
   "toc_window_display": true
  }
 },
 "nbformat": 4,
 "nbformat_minor": 4
}
