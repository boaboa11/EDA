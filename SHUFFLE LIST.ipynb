{
 "cells": [
  {
   "cell_type": "code",
   "execution_count": 40,
   "id": "d0e620fd-6dfe-4773-8d31-07df2142687a",
   "metadata": {},
   "outputs": [
    {
     "name": "stdout",
     "output_type": "stream",
     "text": [
      "[3, 4, 1, 2]\n",
      "['C', 'D', 'E', 'A', 'B']\n"
     ]
    }
   ],
   "source": [
    "def shift_left(before, shift_by=2):\n",
    "    \"\"\"\n",
    "    Parameters:\n",
    "    before (list): the list to be shifted\n",
    "    shift_by(int): Numbers of positions to be shifted\n",
    "    Returns:\n",
    "    list: A new list with elements shifted to the left.\n",
    "    \"\"\"\n",
    "\n",
    "    if not before:\n",
    "       return before\n",
    "\n",
    "    # Handle cases where shift_by is greater than the before list length\n",
    "    shift_by = shift_by % len(before)  \n",
    "    return before[shift_by:] + before[:shift_by]\n",
    "# examples\n",
    "print(shift_left([1, 2, 3, 4]))\n",
    "print(shift_left(['A', 'B', 'C', 'D', 'E']))"
   ]
  },
  {
   "cell_type": "code",
   "execution_count": null,
   "id": "d3e2dee1-bcd1-40c4-bdc6-4d2233ac3043",
   "metadata": {},
   "outputs": [],
   "source": []
  },
  {
   "cell_type": "code",
   "execution_count": null,
   "id": "b998e612-323c-4953-ade1-564a81730045",
   "metadata": {},
   "outputs": [],
   "source": []
  }
 ],
 "metadata": {
  "kernelspec": {
   "display_name": "Python 3 (ipykernel)",
   "language": "python",
   "name": "python3"
  },
  "language_info": {
   "codemirror_mode": {
    "name": "ipython",
    "version": 3
   },
   "file_extension": ".py",
   "mimetype": "text/x-python",
   "name": "python",
   "nbconvert_exporter": "python",
   "pygments_lexer": "ipython3",
   "version": "3.12.4"
  }
 },
 "nbformat": 4,
 "nbformat_minor": 5
}
